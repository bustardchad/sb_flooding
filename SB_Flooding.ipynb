{
 "cells": [
  {
   "cell_type": "markdown",
   "metadata": {},
   "source": [
    "## A Satellite View of Santa Barbara Flooding in January 2023 (Part 1)\n",
    "\n",
    "In early January 2023, massive floods hit Santa Barbara county, shifting the landscape in profound ways:\n",
    "- Very dry lakes (e.g. Lake Cachuma) quickly filled and overflowed\n",
    "- There was substantial beach erosion, making beaches inaccessible in some places\n",
    "- Landslides affected the mountains, wiping out established hiking trails and forcing closures of others for many months\n",
    "\n",
    "Below is a map of estimated precipitation during the event, showing Santa Barbara receiving about 12 inches of rain and the nearby \n",
    "mountains receiving much more!\n",
    "<!-- ![](California_Total_Precip_to_January_11.jpg) -->\n",
    "<img src=\"California_Total_Precip_to_January_11.jpg\" alt=\"drawing\" width=\"800\"/>\n",
    "\n",
    "The goal of these notebooks is to survey the true extent of these floods using satellite imagery taken in a \n",
    "variety of bands and from multiple instruments, namely Sentinel-2 (optical and IR), and Sentinel-1 (microwave synthetic aperture radar)\n",
    "\n",
    "#### Tasks\n",
    "1. Create some useful visualizations showing the changing landscape over time, for instance time-series movies in each band, and \n",
    "some interactive maps allowing one to toggle back and forth between optical images, SAR images, etc. \n",
    "2. Measure the change in plant growth (e.g. quantify NDVI) due to all the rainfall \n",
    "3. Conduct a more rigorous landscape change analysis using e.g. the iMad algorithm\n",
    "4. Test the limits of satellite resolution to see if changes to some trails (only a few meters wide) that I know to be affected will show up in the images\n",
    "\n",
    "We'll tackle parts 1 and 2 in this notebook and save parts 3 and 4 for a second notebook\n",
    "\n"
   ]
  },
  {
   "cell_type": "code",
   "execution_count": 43,
   "metadata": {},
   "outputs": [
    {
     "data": {
      "text/html": [
       "\n",
       "            <style>\n",
       "                .geemap-dark {\n",
       "                    --jp-widgets-color: white;\n",
       "                    --jp-widgets-label-color: white;\n",
       "                    --jp-ui-font-color1: white;\n",
       "                    --jp-layout-color2: #454545;\n",
       "                    background-color: #383838;\n",
       "                }\n",
       "                    \n",
       "                .geemap-dark .jupyter-button {\n",
       "                    --jp-layout-color3: #383838;\n",
       "                }\n",
       "                \n",
       "                .geemap-colab {\n",
       "                    background-color: var(--colab-primary-surface-color, white);\n",
       "                }\n",
       "                    \n",
       "                .geemap-colab .jupyter-button {\n",
       "                    --jp-layout-color3: var(--colab-primary-surface-color, white);\n",
       "                }\n",
       "            </style>\n",
       "            "
      ],
      "text/plain": [
       "<IPython.core.display.HTML object>"
      ]
     },
     "metadata": {},
     "output_type": "display_data"
    }
   ],
   "source": [
    "# Running list of requirements:\n",
    "# geopandas\n",
    "# ffmpeg\n",
    "# geemap\n",
    "\n",
    "import ee\n",
    "import IPython.display as disp\n",
    "import geemap\n",
    "import geopandas as gpd\n",
    "import json\n",
    "import folium\n",
    "%matplotlib inline\n",
    "\n",
    "#ee.Authenticate() # instead type \"earthengine authenticate\" on command line\n",
    "ee.Initialize()\n",
    "\n",
    "# Test to make sure it's working\n",
    "assert ee.Image(\"NASA/NASADEM_HGT/001\").get(\"title\").getInfo(), \"Not working\""
   ]
  },
  {
   "cell_type": "markdown",
   "metadata": {},
   "source": [
    "### Helpful time-series visualizations\n",
    "Let's follow a few helpful tutorials and modify them. The first task is to create a helpful visualization of optical vs SAR backscatter over our AOI (Santa Barbara, CA) during the relevant time period (January 2023). We'll get optical from Sentinel-2 and SAR from Sentinel-1a, and look for images during that time period. "
   ]
  },
  {
   "cell_type": "code",
   "execution_count": 322,
   "metadata": {},
   "outputs": [
    {
     "data": {
      "text/html": [
       "\n",
       "            <style>\n",
       "                .geemap-dark {\n",
       "                    --jp-widgets-color: white;\n",
       "                    --jp-widgets-label-color: white;\n",
       "                    --jp-ui-font-color1: white;\n",
       "                    --jp-layout-color2: #454545;\n",
       "                    background-color: #383838;\n",
       "                }\n",
       "                    \n",
       "                .geemap-dark .jupyter-button {\n",
       "                    --jp-layout-color3: #383838;\n",
       "                }\n",
       "                \n",
       "                .geemap-colab {\n",
       "                    background-color: var(--colab-primary-surface-color, white);\n",
       "                }\n",
       "                    \n",
       "                .geemap-colab .jupyter-button {\n",
       "                    --jp-layout-color3: var(--colab-primary-surface-color, white);\n",
       "                }\n",
       "            </style>\n",
       "            "
      ],
      "text/plain": [
       "<IPython.core.display.HTML object>"
      ]
     },
     "metadata": {},
     "output_type": "display_data"
    }
   ],
   "source": [
    "# Can use geojson.io to get the following area of interest (aoi)\n",
    "SB_GeoJSON = {\n",
    "  \"type\": \"FeatureCollection\",\n",
    "  \"features\": [\n",
    "    {\n",
    "      \"type\": \"Feature\",\n",
    "      \"properties\": {},\n",
    "      \"geometry\": {\n",
    "        \"coordinates\": [\n",
    "          [\n",
    "            -120.02162997431329,\n",
    "            34.65968762774044\n",
    "          ],\n",
    "          [\n",
    "            -120.02991856052506,\n",
    "            34.312776459833444\n",
    "          ],\n",
    "          [\n",
    "            -119.47642519238346,\n",
    "            34.30897295967435\n",
    "          ],\n",
    "          [\n",
    "            -119.48379282457168,\n",
    "            34.65286961735019\n",
    "          ],\n",
    "          [\n",
    "            -120.02347188236035,\n",
    "            34.66044514982775\n",
    "          ]\n",
    "        ],\n",
    "        \"type\": \"LineString\"\n",
    "      }\n",
    "    }\n",
    "  ]\n",
    "}\n",
    "\n",
    "coords = SB_GeoJSON['features'][0]['geometry']['coordinates']\n",
    "aoi = ee.Geometry.Polygon(coords)\n",
    "\n"
   ]
  },
  {
   "cell_type": "code",
   "execution_count": 323,
   "metadata": {},
   "outputs": [
    {
     "data": {
      "text/html": [
       "\n",
       "            <style>\n",
       "                .geemap-dark {\n",
       "                    --jp-widgets-color: white;\n",
       "                    --jp-widgets-label-color: white;\n",
       "                    --jp-ui-font-color1: white;\n",
       "                    --jp-layout-color2: #454545;\n",
       "                    background-color: #383838;\n",
       "                }\n",
       "                    \n",
       "                .geemap-dark .jupyter-button {\n",
       "                    --jp-layout-color3: #383838;\n",
       "                }\n",
       "                \n",
       "                .geemap-colab {\n",
       "                    background-color: var(--colab-primary-surface-color, white);\n",
       "                }\n",
       "                    \n",
       "                .geemap-colab .jupyter-button {\n",
       "                    --jp-layout-color3: var(--colab-primary-surface-color, white);\n",
       "                }\n",
       "            </style>\n",
       "            "
      ],
      "text/plain": [
       "<IPython.core.display.HTML object>"
      ]
     },
     "metadata": {},
     "output_type": "display_data"
    }
   ],
   "source": [
    "start_date = ee.Date('2022-12-02')\n",
    "end_date = start_date.advance(30,'days')\n",
    "\n",
    "date_filter = ee.Filter.date(start_date, end_date)\n",
    "\n",
    "\n",
    "SAR = ee.Image(ee.ImageCollection('COPERNICUS/S1_GRD') \n",
    "                       .filterBounds(aoi) \n",
    "                       .filter(date_filter) \n",
    "                       .first() \n",
    "                       .clip(aoi))\n",
    "S2 = ee.Image(ee.ImageCollection('COPERNICUS/S2_HARMONIZED') \n",
    "                       .filterBounds(aoi) \n",
    "                       .filter(date_filter)\n",
    "                       .filter('CLOUDY_PIXEL_PERCENTAGE < 5')\n",
    "                       .first() \n",
    "                       .clip(aoi))\n"
   ]
  },
  {
   "cell_type": "markdown",
   "metadata": {},
   "source": [
    "Let's print off the SAR (Sentinel-1) and Sentinel-2 bands we can work with, just to make sure things are working, and let's create an image from the VV band"
   ]
  },
  {
   "cell_type": "code",
   "execution_count": 324,
   "metadata": {},
   "outputs": [
    {
     "data": {
      "text/html": [
       "\n",
       "            <style>\n",
       "                .geemap-dark {\n",
       "                    --jp-widgets-color: white;\n",
       "                    --jp-widgets-label-color: white;\n",
       "                    --jp-ui-font-color1: white;\n",
       "                    --jp-layout-color2: #454545;\n",
       "                    background-color: #383838;\n",
       "                }\n",
       "                    \n",
       "                .geemap-dark .jupyter-button {\n",
       "                    --jp-layout-color3: #383838;\n",
       "                }\n",
       "                \n",
       "                .geemap-colab {\n",
       "                    background-color: var(--colab-primary-surface-color, white);\n",
       "                }\n",
       "                    \n",
       "                .geemap-colab .jupyter-button {\n",
       "                    --jp-layout-color3: var(--colab-primary-surface-color, white);\n",
       "                }\n",
       "            </style>\n",
       "            "
      ],
      "text/plain": [
       "<IPython.core.display.HTML object>"
      ]
     },
     "metadata": {},
     "output_type": "display_data"
    },
    {
     "name": "stdout",
     "output_type": "stream",
     "text": [
      "SAR band names:['VV', 'VH', 'angle']\n",
      "Sentinel-2 band names:['B1', 'B2', 'B3', 'B4', 'B5', 'B6', 'B7', 'B8', 'B8A', 'B9', 'B10', 'B11', 'B12', 'QA10', 'QA20', 'QA60']\n"
     ]
    },
    {
     "data": {
      "text/html": [
       "<img src=\"https://earthengine.googleapis.com/v1/projects/earthengine-legacy/thumbnails/3b254f310cb860bb5cf1421950cf5f6c-2ba1d33d24e95272b2ce1dbe1b523867:getPixels\" width=\"800\"/>"
      ],
      "text/plain": [
       "<IPython.core.display.Image object>"
      ]
     },
     "execution_count": 324,
     "metadata": {},
     "output_type": "execute_result"
    }
   ],
   "source": [
    "print(\"SAR band names:\" + str(SAR.bandNames().getInfo()))\n",
    "print(\"Sentinel-2 band names:\" + str(S2.bandNames().getInfo()))\n",
    "url = SAR.select('VV').getThumbURL({'min': -20, 'max': 0})\n",
    "disp.Image(url=url, width=800)"
   ]
  },
  {
   "cell_type": "code",
   "execution_count": 326,
   "metadata": {},
   "outputs": [
    {
     "data": {
      "text/html": [
       "\n",
       "            <style>\n",
       "                .geemap-dark {\n",
       "                    --jp-widgets-color: white;\n",
       "                    --jp-widgets-label-color: white;\n",
       "                    --jp-ui-font-color1: white;\n",
       "                    --jp-layout-color2: #454545;\n",
       "                    background-color: #383838;\n",
       "                }\n",
       "                    \n",
       "                .geemap-dark .jupyter-button {\n",
       "                    --jp-layout-color3: #383838;\n",
       "                }\n",
       "                \n",
       "                .geemap-colab {\n",
       "                    background-color: var(--colab-primary-surface-color, white);\n",
       "                }\n",
       "                    \n",
       "                .geemap-colab .jupyter-button {\n",
       "                    --jp-layout-color3: var(--colab-primary-surface-color, white);\n",
       "                }\n",
       "            </style>\n",
       "            "
      ],
      "text/plain": [
       "<IPython.core.display.HTML object>"
      ]
     },
     "metadata": {},
     "output_type": "display_data"
    },
    {
     "data": {
      "text/html": [
       "<img src=\"https://earthengine.googleapis.com/v1/projects/earthengine-legacy/thumbnails/8b9208f9ea28bdd08661cc8c45b3bf9b-5ebab9b59bc3b24e0a088909d8a6cb67:getPixels\" width=\"600\"/>"
      ],
      "text/plain": [
       "<IPython.core.display.Image object>"
      ]
     },
     "execution_count": 326,
     "metadata": {},
     "output_type": "execute_result"
    }
   ],
   "source": [
    "# Make sure optical works too\n",
    "url = S2.select('B2').getThumbURL({'min': 0, 'max': 3000})\n",
    "disp.Image(url=url, width=600)"
   ]
  },
  {
   "cell_type": "markdown",
   "metadata": {},
   "source": [
    "Ok, it works! Let's now factor in the other SAR bands and compare a composite SAR image to a Sentinel-2 version. To do this, we'll first use Folium, which allows you to make interactive maps, and then we'll test out some of the geemap functionality for sliding between images and creating time-series movies.\n",
    "\n",
    "We'll follow this tutorial for a while, including some code copied directly from it: https://colab.research.google.com/github/google/earthengine-community/blob/master/tutorials/detecting-changes-in-sentinel-1-imagery-pt-1/index.ipynb#scrollTo=VIiyf6azf4mU"
   ]
  },
  {
   "cell_type": "code",
   "execution_count": 327,
   "metadata": {},
   "outputs": [
    {
     "data": {
      "text/html": [
       "\n",
       "            <style>\n",
       "                .geemap-dark {\n",
       "                    --jp-widgets-color: white;\n",
       "                    --jp-widgets-label-color: white;\n",
       "                    --jp-ui-font-color1: white;\n",
       "                    --jp-layout-color2: #454545;\n",
       "                    background-color: #383838;\n",
       "                }\n",
       "                    \n",
       "                .geemap-dark .jupyter-button {\n",
       "                    --jp-layout-color3: #383838;\n",
       "                }\n",
       "                \n",
       "                .geemap-colab {\n",
       "                    background-color: var(--colab-primary-surface-color, white);\n",
       "                }\n",
       "                    \n",
       "                .geemap-colab .jupyter-button {\n",
       "                    --jp-layout-color3: var(--colab-primary-surface-color, white);\n",
       "                }\n",
       "            </style>\n",
       "            "
      ],
      "text/plain": [
       "<IPython.core.display.HTML object>"
      ]
     },
     "metadata": {},
     "output_type": "display_data"
    }
   ],
   "source": [
    "# Import the Folium library.\n",
    "import folium\n",
    "\n",
    "# Define a method for displaying Earth Engine image tiles to folium map.\n",
    "def add_ee_layer(self, ee_image_object, vis_params, name):\n",
    "  map_id_dict = ee.Image(ee_image_object).getMapId(vis_params)\n",
    "  folium.raster_layers.TileLayer(\n",
    "    tiles = map_id_dict['tile_fetcher'].url_format,\n",
    "    attr = 'Map Data &copy; <a href=\"https://earthengine.google.com/\">Google Earth Engine</a>',\n",
    "    name = name,\n",
    "    overlay = True,\n",
    "    control = True\n",
    "  ).add_to(self)\n",
    "\n",
    "# Add EE drawing method to folium.\n",
    "folium.Map.add_ee_layer = add_ee_layer"
   ]
  },
  {
   "cell_type": "code",
   "execution_count": 328,
   "metadata": {},
   "outputs": [
    {
     "data": {
      "text/html": [
       "\n",
       "            <style>\n",
       "                .geemap-dark {\n",
       "                    --jp-widgets-color: white;\n",
       "                    --jp-widgets-label-color: white;\n",
       "                    --jp-ui-font-color1: white;\n",
       "                    --jp-layout-color2: #454545;\n",
       "                    background-color: #383838;\n",
       "                }\n",
       "                    \n",
       "                .geemap-dark .jupyter-button {\n",
       "                    --jp-layout-color3: #383838;\n",
       "                }\n",
       "                \n",
       "                .geemap-colab {\n",
       "                    background-color: var(--colab-primary-surface-color, white);\n",
       "                }\n",
       "                    \n",
       "                .geemap-colab .jupyter-button {\n",
       "                    --jp-layout-color3: var(--colab-primary-surface-color, white);\n",
       "                }\n",
       "            </style>\n",
       "            "
      ],
      "text/plain": [
       "<IPython.core.display.HTML object>"
      ]
     },
     "metadata": {},
     "output_type": "display_data"
    },
    {
     "data": {
      "text/html": [
       "<div style=\"width:100%;\"><div style=\"position:relative;width:100%;height:0;padding-bottom:60%;\"><span style=\"color:#565656\">Make this Notebook Trusted to load map: File -> Trust Notebook</span><iframe srcdoc=\"&lt;!DOCTYPE html&gt;\n",
       "&lt;html&gt;\n",
       "&lt;head&gt;\n",
       "    \n",
       "    &lt;meta http-equiv=&quot;content-type&quot; content=&quot;text/html; charset=UTF-8&quot; /&gt;\n",
       "    \n",
       "        &lt;script&gt;\n",
       "            L_NO_TOUCH = false;\n",
       "            L_DISABLE_3D = false;\n",
       "        &lt;/script&gt;\n",
       "    \n",
       "    &lt;style&gt;html, body {width: 100%;height: 100%;margin: 0;padding: 0;}&lt;/style&gt;\n",
       "    &lt;style&gt;#map {position:absolute;top:0;bottom:0;right:0;left:0;}&lt;/style&gt;\n",
       "    &lt;script src=&quot;https://cdn.jsdelivr.net/npm/leaflet@1.9.3/dist/leaflet.js&quot;&gt;&lt;/script&gt;\n",
       "    &lt;script src=&quot;https://code.jquery.com/jquery-1.12.4.min.js&quot;&gt;&lt;/script&gt;\n",
       "    &lt;script src=&quot;https://cdn.jsdelivr.net/npm/bootstrap@5.2.2/dist/js/bootstrap.bundle.min.js&quot;&gt;&lt;/script&gt;\n",
       "    &lt;script src=&quot;https://cdnjs.cloudflare.com/ajax/libs/Leaflet.awesome-markers/2.0.2/leaflet.awesome-markers.js&quot;&gt;&lt;/script&gt;\n",
       "    &lt;link rel=&quot;stylesheet&quot; href=&quot;https://cdn.jsdelivr.net/npm/leaflet@1.9.3/dist/leaflet.css&quot;/&gt;\n",
       "    &lt;link rel=&quot;stylesheet&quot; href=&quot;https://cdn.jsdelivr.net/npm/bootstrap@5.2.2/dist/css/bootstrap.min.css&quot;/&gt;\n",
       "    &lt;link rel=&quot;stylesheet&quot; href=&quot;https://netdna.bootstrapcdn.com/bootstrap/3.0.0/css/bootstrap.min.css&quot;/&gt;\n",
       "    &lt;link rel=&quot;stylesheet&quot; href=&quot;https://cdn.jsdelivr.net/npm/@fortawesome/fontawesome-free@6.2.0/css/all.min.css&quot;/&gt;\n",
       "    &lt;link rel=&quot;stylesheet&quot; href=&quot;https://cdnjs.cloudflare.com/ajax/libs/Leaflet.awesome-markers/2.0.2/leaflet.awesome-markers.css&quot;/&gt;\n",
       "    &lt;link rel=&quot;stylesheet&quot; href=&quot;https://cdn.jsdelivr.net/gh/python-visualization/folium/folium/templates/leaflet.awesome.rotate.min.css&quot;/&gt;\n",
       "    \n",
       "            &lt;meta name=&quot;viewport&quot; content=&quot;width=device-width,\n",
       "                initial-scale=1.0, maximum-scale=1.0, user-scalable=no&quot; /&gt;\n",
       "            &lt;style&gt;\n",
       "                #map_4632b58f102e64370a3ce23658d7b047 {\n",
       "                    position: relative;\n",
       "                    width: 100.0%;\n",
       "                    height: 100.0%;\n",
       "                    left: 0.0%;\n",
       "                    top: 0.0%;\n",
       "                }\n",
       "                .leaflet-container { font-size: 1rem; }\n",
       "            &lt;/style&gt;\n",
       "        \n",
       "&lt;/head&gt;\n",
       "&lt;body&gt;\n",
       "    \n",
       "    \n",
       "            &lt;div class=&quot;folium-map&quot; id=&quot;map_4632b58f102e64370a3ce23658d7b047&quot; &gt;&lt;/div&gt;\n",
       "        \n",
       "&lt;/body&gt;\n",
       "&lt;script&gt;\n",
       "    \n",
       "    \n",
       "            var map_4632b58f102e64370a3ce23658d7b047 = L.map(\n",
       "                &quot;map_4632b58f102e64370a3ce23658d7b047&quot;,\n",
       "                {\n",
       "                    center: [34.48312300154308, -119.7534481913798],\n",
       "                    crs: L.CRS.EPSG3857,\n",
       "                    zoom: 12,\n",
       "                    zoomControl: true,\n",
       "                    preferCanvas: false,\n",
       "                }\n",
       "            );\n",
       "\n",
       "            \n",
       "\n",
       "        \n",
       "    \n",
       "            var tile_layer_8ca092911aadd9e3518d43b0e29f7701 = L.tileLayer(\n",
       "                &quot;https://{s}.tile.openstreetmap.org/{z}/{x}/{y}.png&quot;,\n",
       "                {&quot;attribution&quot;: &quot;Data by \\u0026copy; \\u003ca target=\\&quot;_blank\\&quot; href=\\&quot;http://openstreetmap.org\\&quot;\\u003eOpenStreetMap\\u003c/a\\u003e, under \\u003ca target=\\&quot;_blank\\&quot; href=\\&quot;http://www.openstreetmap.org/copyright\\&quot;\\u003eODbL\\u003c/a\\u003e.&quot;, &quot;detectRetina&quot;: false, &quot;maxNativeZoom&quot;: 18, &quot;maxZoom&quot;: 18, &quot;minZoom&quot;: 0, &quot;noWrap&quot;: false, &quot;opacity&quot;: 1, &quot;subdomains&quot;: &quot;abc&quot;, &quot;tms&quot;: false}\n",
       "            ).addTo(map_4632b58f102e64370a3ce23658d7b047);\n",
       "        \n",
       "    \n",
       "            var tile_layer_293c953779733dd324d75e65a6a284aa = L.tileLayer(\n",
       "                &quot;https://earthengine.googleapis.com/v1/projects/earthengine-legacy/maps/ef8780ae6a0806a0455dba6897403efa-0a2fc558b939f95ef4b7154c2dcfee69/tiles/{z}/{x}/{y}&quot;,\n",
       "                {&quot;attribution&quot;: &quot;Map Data \\u0026copy; \\u003ca href=\\&quot;https://earthengine.google.com/\\&quot;\\u003eGoogle Earth Engine\\u003c/a\\u003e&quot;, &quot;detectRetina&quot;: false, &quot;maxNativeZoom&quot;: 18, &quot;maxZoom&quot;: 18, &quot;minZoom&quot;: 0, &quot;noWrap&quot;: false, &quot;opacity&quot;: 1, &quot;subdomains&quot;: &quot;abc&quot;, &quot;tms&quot;: false}\n",
       "            ).addTo(map_4632b58f102e64370a3ce23658d7b047);\n",
       "        \n",
       "    \n",
       "            var tile_layer_00359fdd629803248b3b7462fd245c1f = L.tileLayer(\n",
       "                &quot;https://earthengine.googleapis.com/v1/projects/earthengine-legacy/maps/ae3cd0ec196bc35b1c04f7aafe239f10-87a25d252d902c902b1a3edabff45aaf/tiles/{z}/{x}/{y}&quot;,\n",
       "                {&quot;attribution&quot;: &quot;Map Data \\u0026copy; \\u003ca href=\\&quot;https://earthengine.google.com/\\&quot;\\u003eGoogle Earth Engine\\u003c/a\\u003e&quot;, &quot;detectRetina&quot;: false, &quot;maxNativeZoom&quot;: 18, &quot;maxZoom&quot;: 18, &quot;minZoom&quot;: 0, &quot;noWrap&quot;: false, &quot;opacity&quot;: 1, &quot;subdomains&quot;: &quot;abc&quot;, &quot;tms&quot;: false}\n",
       "            ).addTo(map_4632b58f102e64370a3ce23658d7b047);\n",
       "        \n",
       "    \n",
       "            var layer_control_e494a281a7c52bdf7dafe24ff6e44d2a = {\n",
       "                base_layers : {\n",
       "                    &quot;openstreetmap&quot; : tile_layer_8ca092911aadd9e3518d43b0e29f7701,\n",
       "                },\n",
       "                overlays :  {\n",
       "                    &quot;Sentinel-1 (SAR)&quot; : tile_layer_293c953779733dd324d75e65a6a284aa,\n",
       "                    &quot;Sentinel-2&quot; : tile_layer_00359fdd629803248b3b7462fd245c1f,\n",
       "                },\n",
       "            };\n",
       "            L.control.layers(\n",
       "                layer_control_e494a281a7c52bdf7dafe24ff6e44d2a.base_layers,\n",
       "                layer_control_e494a281a7c52bdf7dafe24ff6e44d2a.overlays,\n",
       "                {&quot;autoZIndex&quot;: true, &quot;collapsed&quot;: true, &quot;position&quot;: &quot;topright&quot;}\n",
       "            ).addTo(map_4632b58f102e64370a3ce23658d7b047);\n",
       "        \n",
       "&lt;/script&gt;\n",
       "&lt;/html&gt;\" style=\"position:absolute;width:100%;height:100%;left:0;top:0;border:none !important;\" allowfullscreen webkitallowfullscreen mozallowfullscreen></iframe></div></div>"
      ],
      "text/plain": [
       "<folium.folium.Map at 0x1194249d0>"
      ]
     },
     "metadata": {},
     "output_type": "display_data"
    }
   ],
   "source": [
    "location = aoi.centroid().coordinates().getInfo()[::-1]\n",
    "\n",
    "# Make an RGB color composite image (VV,VH,VV/VH).\n",
    "SAR_rgb_image = ee.Image.rgb(SAR.select('VV'),\n",
    "                   SAR.select('VH'),\n",
    "                   SAR.select('VV').divide(SAR.select('VH')))\n",
    "\n",
    "S2_image = ee.Image.rgb(optical.select('B2'),\n",
    "                        optical.select('B3'),\n",
    "                        optical.select('B4'))\n",
    "\n",
    "# Create the map object.\n",
    "m = folium.Map(location=location, zoom_start=12)\n",
    "\n",
    "# Add the S1 rgb composite to the map object.\n",
    "m.add_ee_layer(SAR_rgb_image, {'min': [-20, -20, 0], 'max': [0, 0, 2]}, 'Sentinel-1 (SAR)')\n",
    "\n",
    "# Add S2 image\n",
    "m.add_ee_layer(S2_image, {'min': [0, 0, 0], 'max': [3000, 3000, 3000]}, 'Sentinel-2')\n",
    "\n",
    "# Add a layer control panel to the map.\n",
    "m.add_child(folium.LayerControl())\n",
    "\n",
    "# Display the map.\n",
    "display(m)"
   ]
  },
  {
   "cell_type": "markdown",
   "metadata": {},
   "source": [
    "Cool! We can flip back and forth between the two images. Now let's really start comparing \"before flood\" to \"after flood\" images. Let's first make time-series of both optical and SAR images to see what happens over the course of several months before and after the January floods"
   ]
  },
  {
   "cell_type": "code",
   "execution_count": 321,
   "metadata": {},
   "outputs": [
    {
     "data": {
      "text/html": [
       "\n",
       "            <style>\n",
       "                .geemap-dark {\n",
       "                    --jp-widgets-color: white;\n",
       "                    --jp-widgets-label-color: white;\n",
       "                    --jp-ui-font-color1: white;\n",
       "                    --jp-layout-color2: #454545;\n",
       "                    background-color: #383838;\n",
       "                }\n",
       "                    \n",
       "                .geemap-dark .jupyter-button {\n",
       "                    --jp-layout-color3: #383838;\n",
       "                }\n",
       "                \n",
       "                .geemap-colab {\n",
       "                    background-color: var(--colab-primary-surface-color, white);\n",
       "                }\n",
       "                    \n",
       "                .geemap-colab .jupyter-button {\n",
       "                    --jp-layout-color3: var(--colab-primary-surface-color, white);\n",
       "                }\n",
       "            </style>\n",
       "            "
      ],
      "text/plain": [
       "<IPython.core.display.HTML object>"
      ]
     },
     "metadata": {},
     "output_type": "display_data"
    },
    {
     "name": "stdout",
     "output_type": "stream",
     "text": [
      "Generating URL...\n",
      "Downloading GIF image from https://earthengine.googleapis.com/v1/projects/earthengine-legacy/videoThumbnails/611e35ff8a6570e80f1df87717207f6d-222f6387966599b71d5e70125cbb92ab:getPixels\n",
      "Please wait ...\n",
      "The GIF image has been saved to: /Users/chadbustard/Downloads/SAR_ts.gif\n"
     ]
    },
    {
     "data": {
      "application/vnd.jupyter.widget-view+json": {
       "model_id": "c93884b3d80f48caba8a6b49a526a3cb",
       "version_major": 2,
       "version_minor": 0
      },
      "text/plain": [
       "Output()"
      ]
     },
     "metadata": {},
     "output_type": "display_data"
    }
   ],
   "source": [
    "import os\n",
    "\n",
    "out_dir = os.path.join(os.path.expanduser(\"~\"), 'Downloads')\n",
    "if not os.path.exists(out_dir):\n",
    "    os.makedirs(out_dir)\n",
    "\n",
    "start_date = ee.Date('2022-09-01')\n",
    "end_date = ee.Date('2023-04-01')\n",
    "\n",
    "date_filter = ee.Filter.date(start_date, end_date)\n",
    "\n",
    "# Create a collection of SAR images during this timeperiod\n",
    "SAR_collection = ee.ImageCollection('COPERNICUS/S1_GRD').filterBounds(aoi).filter(date_filter).filter(ee.Filter.eq('instrumentMode', 'IW')).filter(ee.Filter.eq('orbitProperties_pass', 'DESCENDING'));\n",
    "\n",
    "# Do the same for optical but filter out cloudy images (with cloud percentage > 5%)\n",
    "optical_collection = ee.ImageCollection('COPERNICUS/S2_HARMONIZED').filterBounds(aoi).filter(date_filter).filter('CLOUDY_PIXEL_PERCENTAGE < 5')\n",
    "\n",
    "# Define arguments for animation function parameters.\n",
    "video_args = {\n",
    "    'dimensions': 768,\n",
    "    'region': aoi,\n",
    "    'framesPerSecond': 3,\n",
    "    'bands': ['VV'],\n",
    "    'frequency' : 'day',\n",
    "    'min': -20,\n",
    "    'max': 0,\n",
    "    'title' : 'Sentinel-1 Timelapse',\n",
    "    'add_colorbar' : True,\n",
    "    'colorbar_bg_color' : 'gray',\n",
    "}\n",
    "\n",
    "work_dir = os.path.join(os.path.expanduser(\"~\"), 'Downloads')\n",
    "if not os.path.exists(work_dir):\n",
    "    os.makedirs(work_dir)\n",
    "out_gif = os.path.join(work_dir, \"SAR_ts.gif\")\n",
    "\n",
    "geemap.download_ee_video(collection, video_args, out_gif)\n",
    "\n",
    "geemap.show_image(out_gif)\n"
   ]
  },
  {
   "cell_type": "markdown",
   "metadata": {},
   "source": [
    "The above creates a collection of SAR and optical images, sets the path to download a GIF to my Downloads folder, and creates a timelapse. I found out after a bit of tinkering that geemap already does this for us in a much simpler way, so here goes that version...\n"
   ]
  },
  {
   "cell_type": "code",
   "execution_count": 329,
   "metadata": {},
   "outputs": [
    {
     "data": {
      "text/html": [
       "\n",
       "            <style>\n",
       "                .geemap-dark {\n",
       "                    --jp-widgets-color: white;\n",
       "                    --jp-widgets-label-color: white;\n",
       "                    --jp-ui-font-color1: white;\n",
       "                    --jp-layout-color2: #454545;\n",
       "                    background-color: #383838;\n",
       "                }\n",
       "                    \n",
       "                .geemap-dark .jupyter-button {\n",
       "                    --jp-layout-color3: #383838;\n",
       "                }\n",
       "                \n",
       "                .geemap-colab {\n",
       "                    background-color: var(--colab-primary-surface-color, white);\n",
       "                }\n",
       "                    \n",
       "                .geemap-colab .jupyter-button {\n",
       "                    --jp-layout-color3: var(--colab-primary-surface-color, white);\n",
       "                }\n",
       "            </style>\n",
       "            "
      ],
      "text/plain": [
       "<IPython.core.display.HTML object>"
      ]
     },
     "metadata": {},
     "output_type": "display_data"
    },
    {
     "name": "stdout",
     "output_type": "stream",
     "text": [
      "Generating URL...\n",
      "Downloading GIF image from https://earthengine.googleapis.com/v1/projects/earthengine-legacy/videoThumbnails/3137cdc122ef1fefdce5707d70afe15e-0f478ac2c8e8d20053adbfe5f33107f0:getPixels\n",
      "Please wait ...\n",
      "The GIF image has been saved to: /Users/chadbustard/Desktop/Industry/Google Earth Engine/SantaBarbara/sentinel1.gif\n",
      "ffmpeg is not installed on your computer.\n"
     ]
    },
    {
     "data": {
      "application/vnd.jupyter.widget-view+json": {
       "model_id": "79df4931982340cbb9e3361b2d21a586",
       "version_major": 2,
       "version_minor": 0
      },
      "text/plain": [
       "Output()"
      ]
     },
     "metadata": {},
     "output_type": "display_data"
    }
   ],
   "source": [
    "# timelapse for a sentinel-1 collection following the geemap documentation: https://book.geemap.org/chapters/09_timelapse.html#sentinel-1-timelapse\n",
    "timelapse = geemap.sentinel1_timelapse(\n",
    "    aoi,\n",
    "    out_gif='sentinel1.gif',\n",
    "    start_year=2022,\n",
    "    end_year=2023,\n",
    "    start_date='09-01',\n",
    "    end_date='04-01',\n",
    "    bands=['VV'],\n",
    "    frequency='day',\n",
    "    vis_params={\"min\": -30, \"max\": 0},\n",
    "    palette=\"Greys\",\n",
    "    frames_per_second=3,\n",
    "    title='Sentinel-1 Timelapse',\n",
    "    add_colorbar=True,\n",
    "    colorbar_bg_color='gray',\n",
    ")\n",
    "geemap.show_image(timelapse)"
   ]
  },
  {
   "cell_type": "code",
   "execution_count": 330,
   "metadata": {},
   "outputs": [
    {
     "data": {
      "text/html": [
       "\n",
       "            <style>\n",
       "                .geemap-dark {\n",
       "                    --jp-widgets-color: white;\n",
       "                    --jp-widgets-label-color: white;\n",
       "                    --jp-ui-font-color1: white;\n",
       "                    --jp-layout-color2: #454545;\n",
       "                    background-color: #383838;\n",
       "                }\n",
       "                    \n",
       "                .geemap-dark .jupyter-button {\n",
       "                    --jp-layout-color3: #383838;\n",
       "                }\n",
       "                \n",
       "                .geemap-colab {\n",
       "                    background-color: var(--colab-primary-surface-color, white);\n",
       "                }\n",
       "                    \n",
       "                .geemap-colab .jupyter-button {\n",
       "                    --jp-layout-color3: var(--colab-primary-surface-color, white);\n",
       "                }\n",
       "            </style>\n",
       "            "
      ],
      "text/plain": [
       "<IPython.core.display.HTML object>"
      ]
     },
     "metadata": {},
     "output_type": "display_data"
    },
    {
     "name": "stdout",
     "output_type": "stream",
     "text": [
      "Generating URL...\n",
      "Downloading GIF image from https://earthengine.googleapis.com/v1/projects/earthengine-legacy/videoThumbnails/edb2e947a164c996bd4b52e919f06e7d-08dbd0811d1c66347ebaebb83182878a:getPixels\n",
      "Please wait ...\n",
      "The GIF image has been saved to: /Users/chadbustard/Desktop/Industry/Google Earth Engine/SantaBarbara/sentinel2.gif\n",
      "ffmpeg is not installed on your computer.\n"
     ]
    },
    {
     "data": {
      "application/vnd.jupyter.widget-view+json": {
       "model_id": "37e4d21dae8d48be95e515a9a874972e",
       "version_major": 2,
       "version_minor": 0
      },
      "text/plain": [
       "Output()"
      ]
     },
     "metadata": {},
     "output_type": "display_data"
    }
   ],
   "source": [
    "# Same for sentinel-2 optical\n",
    "timelapse = geemap.sentinel2_timelapse(\n",
    "    aoi,\n",
    "    out_gif='sentinel2.gif',\n",
    "    start_year=2022,\n",
    "    end_year=2023,\n",
    "    start_date='09-01',\n",
    "    end_date='04-01',\n",
    "    frequency='month',\n",
    "    bands=['SWIR1', 'NIR', 'Red'],\n",
    "    frames_per_second=3,\n",
    "    title='Sentinel-2 Timelapse',\n",
    ")\n",
    "geemap.show_image(timelapse)"
   ]
  },
  {
   "cell_type": "markdown",
   "metadata": {},
   "source": [
    "These timelapses are fun, but they aren't great for showing fine detailed changes because they rely on the user to pick up on the changes themselves, which works best if the change is really big. Case-in-point: the lake in the upper left (Lake Cachuma) grows substantially in early 2023! \n",
    "\n",
    "Following that lake growth, the color of the Sentinel-2 image changes in many locations from red to green! We've set the rgb bands to be \"SWIR1\", \"NIR\", and \"Red\", meaning there is a pretty large conversion from SWIR to NIR. Let's see if this is due to increased vegetation. For that, geemap allows you to easily load in MODIS vegetation indices, which *would* be trivial, but Terra spiraled out before our time window beginning in late 2022. So we'll do this one manually using Sentinel-2 data. "
   ]
  },
  {
   "cell_type": "markdown",
   "metadata": {},
   "source": [
    "As a reminder, NDVI = \"normalized difference vegetation index\" = (NIR - Red)/(NIR + Red), which ranges from -1 to 1. It is used to quantify the health and density of vegetation, which fluctuates enormously in southern California throughout the year due to long, dry summers followed by wet winters (well, usually...especially in 2022/2023)"
   ]
  },
  {
   "cell_type": "code",
   "execution_count": 331,
   "metadata": {},
   "outputs": [
    {
     "data": {
      "text/html": [
       "\n",
       "            <style>\n",
       "                .geemap-dark {\n",
       "                    --jp-widgets-color: white;\n",
       "                    --jp-widgets-label-color: white;\n",
       "                    --jp-ui-font-color1: white;\n",
       "                    --jp-layout-color2: #454545;\n",
       "                    background-color: #383838;\n",
       "                }\n",
       "                    \n",
       "                .geemap-dark .jupyter-button {\n",
       "                    --jp-layout-color3: #383838;\n",
       "                }\n",
       "                \n",
       "                .geemap-colab {\n",
       "                    background-color: var(--colab-primary-surface-color, white);\n",
       "                }\n",
       "                    \n",
       "                .geemap-colab .jupyter-button {\n",
       "                    --jp-layout-color3: var(--colab-primary-surface-color, white);\n",
       "                }\n",
       "            </style>\n",
       "            "
      ],
      "text/plain": [
       "<IPython.core.display.HTML object>"
      ]
     },
     "metadata": {},
     "output_type": "display_data"
    }
   ],
   "source": [
    "\"Before flood\"\n",
    "start_date = ee.Date('2022-11-01')\n",
    "end_date = ee.Date('2023-11-20')\n",
    "\n",
    "date_filter = ee.Filter.date(start_date, end_date)\n",
    "\n",
    "s2_before_collection = ee.ImageCollection('COPERNICUS/S2_HARMONIZED').filterBounds(aoi).filter(date_filter).filter('CLOUDY_PIXEL_PERCENTAGE < 50')\n",
    "before_image = ee.Image(s2_before_collection.first()).clip(aoi)\n",
    "\n",
    "# \"After flood\"\n",
    "start_date = ee.Date('2023-03-01')\n",
    "end_date = ee.Date('2023-03-21')\n",
    "\n",
    "date_filter = ee.Filter.date(start_date, end_date)\n",
    "\n",
    "s2_after_collection = ee.ImageCollection('COPERNICUS/S2_HARMONIZED').filterBounds(aoi).filter(date_filter).filter('CLOUDY_PIXEL_PERCENTAGE < 50')\n",
    "after_image = ee.Image(s2_after_collection.first().clip(aoi))\n",
    "\n",
    "# Now get NDVI\n",
    "ndvi_before = before_image.normalizedDifference(['B5', 'B4']).rename('NDVI') # shortcut to get ndvi instead of subtracting and dividing\n",
    "ndvi_after = after_image.normalizedDifference(['B5', 'B4']).rename('NDVI') # shortcut to get ndvi instead of subtracting and dividing\n",
    "\n"
   ]
  },
  {
   "cell_type": "markdown",
   "metadata": {},
   "source": [
    "One of the most fun ways to visualize before and after changes is with a split map. geemap lets us do this pretty easily"
   ]
  },
  {
   "cell_type": "code",
   "execution_count": 332,
   "metadata": {},
   "outputs": [
    {
     "data": {
      "text/html": [
       "\n",
       "            <style>\n",
       "                .geemap-dark {\n",
       "                    --jp-widgets-color: white;\n",
       "                    --jp-widgets-label-color: white;\n",
       "                    --jp-ui-font-color1: white;\n",
       "                    --jp-layout-color2: #454545;\n",
       "                    background-color: #383838;\n",
       "                }\n",
       "                    \n",
       "                .geemap-dark .jupyter-button {\n",
       "                    --jp-layout-color3: #383838;\n",
       "                }\n",
       "                \n",
       "                .geemap-colab {\n",
       "                    background-color: var(--colab-primary-surface-color, white);\n",
       "                }\n",
       "                    \n",
       "                .geemap-colab .jupyter-button {\n",
       "                    --jp-layout-color3: var(--colab-primary-surface-color, white);\n",
       "                }\n",
       "            </style>\n",
       "            "
      ],
      "text/plain": [
       "<IPython.core.display.HTML object>"
      ]
     },
     "metadata": {},
     "output_type": "display_data"
    },
    {
     "data": {
      "application/vnd.jupyter.widget-view+json": {
       "model_id": "54400de4eab741cfb7cb4cfbc4728a38",
       "version_major": 2,
       "version_minor": 0
      },
      "text/plain": [
       "Map(center=[34.48508723089384, -119.82681327243162], controls=(ZoomControl(options=['position', 'zoom_in_text'…"
      ]
     },
     "execution_count": 332,
     "metadata": {},
     "output_type": "execute_result"
    }
   ],
   "source": [
    "# Create a fun split map with November on the left and March on the right\n",
    "SB_split_map = geemap.Map()\n",
    "SB_split_map.centerObject(ndvi_after, 12)\n",
    "left_layer = geemap.ee_tile_layer(ndvi_before, ndviParams, 'November')\n",
    "right_layer = geemap.ee_tile_layer(ndvi_after, ndviParams, 'March')\n",
    "SB_split_map.split_map(left_layer,right_layer)\n",
    "\n",
    "SB_split_map"
   ]
  },
  {
   "cell_type": "markdown",
   "metadata": {},
   "source": [
    "### Historical NDVI\n",
    "\n",
    "We can see above that NDVI changes significantly between November (left) and March (right). This was caused by the large amount of rainfall in early January, but I'm curious whether this happens every year. To check that, we add an NDVI band to a collection of images and then calculate the mean NDVI in different representative regions (doing it for the entire Santa Barbara aoi exceeds computation limits)"
   ]
  },
  {
   "cell_type": "code",
   "execution_count": 333,
   "metadata": {},
   "outputs": [
    {
     "data": {
      "text/html": [
       "\n",
       "            <style>\n",
       "                .geemap-dark {\n",
       "                    --jp-widgets-color: white;\n",
       "                    --jp-widgets-label-color: white;\n",
       "                    --jp-ui-font-color1: white;\n",
       "                    --jp-layout-color2: #454545;\n",
       "                    background-color: #383838;\n",
       "                }\n",
       "                    \n",
       "                .geemap-dark .jupyter-button {\n",
       "                    --jp-layout-color3: #383838;\n",
       "                }\n",
       "                \n",
       "                .geemap-colab {\n",
       "                    background-color: var(--colab-primary-surface-color, white);\n",
       "                }\n",
       "                    \n",
       "                .geemap-colab .jupyter-button {\n",
       "                    --jp-layout-color3: var(--colab-primary-surface-color, white);\n",
       "                }\n",
       "            </style>\n",
       "            "
      ],
      "text/plain": [
       "<IPython.core.display.HTML object>"
      ]
     },
     "metadata": {},
     "output_type": "display_data"
    },
    {
     "data": {
      "text/plain": [
       "['11/02/22',\n",
       " '11/02/22',\n",
       " '11/02/22',\n",
       " '11/12/22',\n",
       " '11/12/22',\n",
       " '11/12/22',\n",
       " '11/14/22',\n",
       " '11/14/22',\n",
       " '11/17/22',\n",
       " '11/17/22',\n",
       " '11/19/22',\n",
       " '11/19/22',\n",
       " '11/22/22',\n",
       " '11/22/22',\n",
       " '11/22/22',\n",
       " '11/27/22',\n",
       " '11/27/22',\n",
       " '11/27/22',\n",
       " '11/29/22',\n",
       " '11/29/22',\n",
       " '12/07/22',\n",
       " '12/07/22',\n",
       " '12/07/22',\n",
       " '12/14/22',\n",
       " '12/14/22',\n",
       " '01/01/23',\n",
       " '01/01/23',\n",
       " '01/03/23',\n",
       " '01/06/23',\n",
       " '01/06/23',\n",
       " '01/06/23',\n",
       " '01/16/23',\n",
       " '01/16/23',\n",
       " '01/16/23',\n",
       " '01/21/23',\n",
       " '01/21/23',\n",
       " '01/21/23',\n",
       " '01/26/23',\n",
       " '01/26/23',\n",
       " '01/26/23',\n",
       " '01/31/23',\n",
       " '01/31/23',\n",
       " '01/31/23',\n",
       " '02/05/23',\n",
       " '02/05/23',\n",
       " '02/05/23',\n",
       " '02/12/23',\n",
       " '02/15/23',\n",
       " '02/15/23',\n",
       " '02/15/23',\n",
       " '02/20/23',\n",
       " '02/20/23',\n",
       " '02/20/23',\n",
       " '02/22/23',\n",
       " '02/25/23',\n",
       " '03/02/23',\n",
       " '03/02/23',\n",
       " '03/02/23',\n",
       " '03/07/23',\n",
       " '03/07/23',\n",
       " '03/07/23',\n",
       " '03/09/23',\n",
       " '03/09/23',\n",
       " '03/12/23',\n",
       " '03/12/23',\n",
       " '03/17/23',\n",
       " '03/17/23',\n",
       " '03/22/23',\n",
       " '03/24/23',\n",
       " '03/24/23',\n",
       " '03/27/23',\n",
       " '03/27/23',\n",
       " '03/27/23',\n",
       " '03/29/23',\n",
       " '03/29/23']"
      ]
     },
     "execution_count": 333,
     "metadata": {},
     "output_type": "execute_result"
    }
   ],
   "source": [
    "import pandas as pd\n",
    "import time\n",
    "\n",
    "# For this one, we'll just filter the date to be pretty close to the known rainfall event in early January\n",
    "start_date = ee.Date('2022-11-01')\n",
    "end_date = ee.Date('2023-03-30')\n",
    "\n",
    "date_filter = ee.Filter.date(start_date, end_date)\n",
    "\n",
    "s2_image_collection = ee.ImageCollection('COPERNICUS/S2').filterBounds(aoi).filter(date_filter).filter('CLOUDY_PIXEL_PERCENTAGE < 50')\n",
    "\n",
    "# Function to add NDVI band to each image in a collection\n",
    "def addNDVI(image):\n",
    "    return image.addBands(image.normalizedDifference(['B8', 'B4']).rename('NDVI'))\n",
    "\n",
    "# Use the addNDVI function on each image in s2_image_collection\n",
    "s2_ts_ndvi = s2_image_collection.map(addNDVI)\n",
    "\n",
    "# Let's make sure we have quite a few timestamps to work with\n",
    "acq_times = s2_ts_ndvi.aggregate_array('system:time_start').getInfo()\n",
    "[time.strftime('%x', time.gmtime(acq_time/1000)) for acq_time in acq_times]\n"
   ]
  },
  {
   "cell_type": "markdown",
   "metadata": {},
   "source": [
    "Good! We have plenty of NDVI images during our time period. Let's go ahead and pick some interesting regions to calculate average NDVI. The first is an open field in Goleta, CA (suburb of Santa Barbara) that shows a ton of change in NDVI, and the second is a larger region in the backcountry"
   ]
  },
  {
   "cell_type": "code",
   "execution_count": 340,
   "metadata": {},
   "outputs": [
    {
     "data": {
      "text/html": [
       "\n",
       "            <style>\n",
       "                .geemap-dark {\n",
       "                    --jp-widgets-color: white;\n",
       "                    --jp-widgets-label-color: white;\n",
       "                    --jp-ui-font-color1: white;\n",
       "                    --jp-layout-color2: #454545;\n",
       "                    background-color: #383838;\n",
       "                }\n",
       "                    \n",
       "                .geemap-dark .jupyter-button {\n",
       "                    --jp-layout-color3: #383838;\n",
       "                }\n",
       "                \n",
       "                .geemap-colab {\n",
       "                    background-color: var(--colab-primary-surface-color, white);\n",
       "                }\n",
       "                    \n",
       "                .geemap-colab .jupyter-button {\n",
       "                    --jp-layout-color3: var(--colab-primary-surface-color, white);\n",
       "                }\n",
       "            </style>\n",
       "            "
      ],
      "text/plain": [
       "<IPython.core.display.HTML object>"
      ]
     },
     "metadata": {},
     "output_type": "display_data"
    },
    {
     "data": {
      "text/html": [
       "<div>\n",
       "<style scoped>\n",
       "    .dataframe tbody tr th:only-of-type {\n",
       "        vertical-align: middle;\n",
       "    }\n",
       "\n",
       "    .dataframe tbody tr th {\n",
       "        vertical-align: top;\n",
       "    }\n",
       "\n",
       "    .dataframe thead th {\n",
       "        text-align: right;\n",
       "    }\n",
       "</style>\n",
       "<table border=\"1\" class=\"dataframe\">\n",
       "  <thead>\n",
       "    <tr style=\"text-align: right;\">\n",
       "      <th></th>\n",
       "      <th>date</th>\n",
       "      <th>mean</th>\n",
       "    </tr>\n",
       "  </thead>\n",
       "  <tbody>\n",
       "    <tr>\n",
       "      <th>0</th>\n",
       "      <td>2022-11-02 18:54:48</td>\n",
       "      <td>0.119682</td>\n",
       "    </tr>\n",
       "    <tr>\n",
       "      <th>1</th>\n",
       "      <td>2022-11-02 18:54:46</td>\n",
       "      <td>0.120464</td>\n",
       "    </tr>\n",
       "    <tr>\n",
       "      <th>2</th>\n",
       "      <td>2022-11-12 18:54:50</td>\n",
       "      <td>0.116953</td>\n",
       "    </tr>\n",
       "    <tr>\n",
       "      <th>3</th>\n",
       "      <td>2022-11-12 18:54:48</td>\n",
       "      <td>0.118162</td>\n",
       "    </tr>\n",
       "    <tr>\n",
       "      <th>4</th>\n",
       "      <td>2022-11-17 18:54:52</td>\n",
       "      <td>0.115715</td>\n",
       "    </tr>\n",
       "  </tbody>\n",
       "</table>\n",
       "</div>"
      ],
      "text/plain": [
       "                 date      mean\n",
       "0 2022-11-02 18:54:48  0.119682\n",
       "1 2022-11-02 18:54:46  0.120464\n",
       "2 2022-11-12 18:54:50  0.116953\n",
       "3 2022-11-12 18:54:48  0.118162\n",
       "4 2022-11-17 18:54:52  0.115715"
      ]
     },
     "execution_count": 340,
     "metadata": {},
     "output_type": "execute_result"
    }
   ],
   "source": [
    "# Following this is helpful here... https://worldbank.github.io/OpenNightLights/tutorials/mod4_1_time_series_charts.html\n",
    "\n",
    "# Point selected in a field near Goleta, CA, with a buffer in meters around our point of interest\n",
    "field = ee.Geometry.Point([-119.86272763837708, 34.43892291923153]).buffer(500)\n",
    "\n",
    "rural_aoi = ee.Geometry.Point([-119.88827311361248, 34.52637713334907]).buffer(1000)\n",
    "\n",
    "# Function to calculate the mean within this area (field) for an individual image\n",
    "def field_mean(img):\n",
    "    mean = img.reduceRegion(reducer=ee.Reducer.mean(), geometry=field, scale=30).get('NDVI')\n",
    "    return img.set('date', img.date().format()).set('mean',mean)\n",
    "\n",
    "# Same but for the rural backcountry region\n",
    "def rural_mean(img):\n",
    "    mean = img.reduceRegion(reducer=ee.Reducer.mean(), geometry=rural_aoi, scale=30).get('NDVI')\n",
    "    return img.set('date', img.date().format()).set('mean',mean)\n",
    "\n",
    "\n",
    "# Function to calculate mean for each image and then convert to a workable Pandas DataFrame\n",
    "def calc_mean_over_region(imageCol, meanFunc):\n",
    "    # Calculate mean for each timestamp\n",
    "    field_imgs = s2_ts_ndvi.map(poi_mean)\n",
    "\n",
    "    # Convert from ImageCollection to a nested list we can convert to a Pandas DataFrame\n",
    "    nested_list = field_imgs.reduceColumns(ee.Reducer.toList(2), ['date','mean']).values().get(0)\n",
    "\n",
    "    # Convert to a DataFrame\n",
    "    df = pd.DataFrame(nested_list.getInfo(), columns=['date','mean'])\n",
    "\n",
    "    # Convert timestamp to datetime\n",
    "    df['date'] = pd.to_datetime(df['date'])\n",
    "\n",
    "    return df\n",
    "\n",
    "\n",
    "df_s2_field = calc_mean_over_region(s2_ts_ndvi, field_mean)\n",
    "df_s2_rural = calc_mean_over_region(s2_ts_ndvi, rural_mean)\n",
    "\n",
    "df_s2_field.head()\n"
   ]
  },
  {
   "cell_type": "markdown",
   "metadata": {},
   "source": [
    "Let's show where these regions are before we plot their mean NDVI over time"
   ]
  },
  {
   "cell_type": "code",
   "execution_count": 338,
   "metadata": {},
   "outputs": [
    {
     "data": {
      "text/html": [
       "\n",
       "            <style>\n",
       "                .geemap-dark {\n",
       "                    --jp-widgets-color: white;\n",
       "                    --jp-widgets-label-color: white;\n",
       "                    --jp-ui-font-color1: white;\n",
       "                    --jp-layout-color2: #454545;\n",
       "                    background-color: #383838;\n",
       "                }\n",
       "                    \n",
       "                .geemap-dark .jupyter-button {\n",
       "                    --jp-layout-color3: #383838;\n",
       "                }\n",
       "                \n",
       "                .geemap-colab {\n",
       "                    background-color: var(--colab-primary-surface-color, white);\n",
       "                }\n",
       "                    \n",
       "                .geemap-colab .jupyter-button {\n",
       "                    --jp-layout-color3: var(--colab-primary-surface-color, white);\n",
       "                }\n",
       "            </style>\n",
       "            "
      ],
      "text/plain": [
       "<IPython.core.display.HTML object>"
      ]
     },
     "metadata": {},
     "output_type": "display_data"
    },
    {
     "data": {
      "application/vnd.jupyter.widget-view+json": {
       "model_id": "1504f948980944259c95ed2869a11de7",
       "version_major": 2,
       "version_minor": 0
      },
      "text/plain": [
       "Map(center=[34.43892343216697, -119.86272762112559], controls=(WidgetControl(options=['position', 'transparent…"
      ]
     },
     "execution_count": 338,
     "metadata": {},
     "output_type": "execute_result"
    }
   ],
   "source": [
    "fieldMap = geemap.Map()\n",
    "fieldMap.centerObject(field, zoom=11)\n",
    "fieldMap.addLayer(field, {}, \"Goleta Field\")\n",
    "fieldMap.addLayer(rural_aoi, {}, \"Backcountry Region\")\n",
    "fieldMap.addLayerControl()\n",
    "fieldMap"
   ]
  },
  {
   "cell_type": "markdown",
   "metadata": {},
   "source": [
    "Let's start by plotting the field and focusing on the 2022/2023 winter season"
   ]
  },
  {
   "cell_type": "code",
   "execution_count": 341,
   "metadata": {},
   "outputs": [
    {
     "data": {
      "text/html": [
       "\n",
       "            <style>\n",
       "                .geemap-dark {\n",
       "                    --jp-widgets-color: white;\n",
       "                    --jp-widgets-label-color: white;\n",
       "                    --jp-ui-font-color1: white;\n",
       "                    --jp-layout-color2: #454545;\n",
       "                    background-color: #383838;\n",
       "                }\n",
       "                    \n",
       "                .geemap-dark .jupyter-button {\n",
       "                    --jp-layout-color3: #383838;\n",
       "                }\n",
       "                \n",
       "                .geemap-colab {\n",
       "                    background-color: var(--colab-primary-surface-color, white);\n",
       "                }\n",
       "                    \n",
       "                .geemap-colab .jupyter-button {\n",
       "                    --jp-layout-color3: var(--colab-primary-surface-color, white);\n",
       "                }\n",
       "            </style>\n",
       "            "
      ],
      "text/plain": [
       "<IPython.core.display.HTML object>"
      ]
     },
     "metadata": {},
     "output_type": "display_data"
    },
    {
     "data": {
      "text/plain": [
       "[Text(0.5, 1.0, 'NDVI in Goleta field')]"
      ]
     },
     "execution_count": 341,
     "metadata": {},
     "output_type": "execute_result"
    },
    {
     "data": {
      "image/png": "[encoded data removed]",
      "text/plain": [
       "<Figure size 1200x600 with 1 Axes>"
      ]
     },
     "metadata": {},
     "output_type": "display_data"
    }
   ],
   "source": [
    "import seaborn as sns\n",
    "import matplotlib.dates as mdates\n",
    "\n",
    "fig, ax = plt.subplots(figsize=(12,6))\n",
    "sns.scatterplot(data=df_s2_field, x='date',y='mean', ax=ax).set(title=\"NDVI in Goleta field\")"
   ]
  },
  {
   "cell_type": "markdown",
   "metadata": {},
   "source": [
    "That's a massive increase in a short amount of time! But how abnormal is it? Let's plot this over a number of years and see how the winter of 2022/2023 compares."
   ]
  },
  {
   "cell_type": "code",
   "execution_count": 342,
   "metadata": {},
   "outputs": [
    {
     "data": {
      "text/html": [
       "\n",
       "            <style>\n",
       "                .geemap-dark {\n",
       "                    --jp-widgets-color: white;\n",
       "                    --jp-widgets-label-color: white;\n",
       "                    --jp-ui-font-color1: white;\n",
       "                    --jp-layout-color2: #454545;\n",
       "                    background-color: #383838;\n",
       "                }\n",
       "                    \n",
       "                .geemap-dark .jupyter-button {\n",
       "                    --jp-layout-color3: #383838;\n",
       "                }\n",
       "                \n",
       "                .geemap-colab {\n",
       "                    background-color: var(--colab-primary-surface-color, white);\n",
       "                }\n",
       "                    \n",
       "                .geemap-colab .jupyter-button {\n",
       "                    --jp-layout-color3: var(--colab-primary-surface-color, white);\n",
       "                }\n",
       "            </style>\n",
       "            "
      ],
      "text/plain": [
       "<IPython.core.display.HTML object>"
      ]
     },
     "metadata": {},
     "output_type": "display_data"
    }
   ],
   "source": [
    "start_date = ee.Date('2014-11-01')\n",
    "end_date = ee.Date('2023-06-30')\n",
    "\n",
    "date_filter = ee.Filter.date(start_date, end_date)\n",
    "\n",
    "s2_image_collection = ee.ImageCollection('COPERNICUS/S2').filterBounds(aoi).filter(date_filter).filter('CLOUDY_PIXEL_PERCENTAGE < 50')\n",
    "\n",
    "s2_ts_ndvi = s2_image_collection.map(addNDVI)\n",
    "\n",
    "df_s2_field_multiyear = calc_mean_over_region(s2_ts_ndvi, field_mean)\n"
   ]
  },
  {
   "cell_type": "code",
   "execution_count": 343,
   "metadata": {},
   "outputs": [
    {
     "data": {
      "text/html": [
       "\n",
       "            <style>\n",
       "                .geemap-dark {\n",
       "                    --jp-widgets-color: white;\n",
       "                    --jp-widgets-label-color: white;\n",
       "                    --jp-ui-font-color1: white;\n",
       "                    --jp-layout-color2: #454545;\n",
       "                    background-color: #383838;\n",
       "                }\n",
       "                    \n",
       "                .geemap-dark .jupyter-button {\n",
       "                    --jp-layout-color3: #383838;\n",
       "                }\n",
       "                \n",
       "                .geemap-colab {\n",
       "                    background-color: var(--colab-primary-surface-color, white);\n",
       "                }\n",
       "                    \n",
       "                .geemap-colab .jupyter-button {\n",
       "                    --jp-layout-color3: var(--colab-primary-surface-color, white);\n",
       "                }\n",
       "            </style>\n",
       "            "
      ],
      "text/plain": [
       "<IPython.core.display.HTML object>"
      ]
     },
     "metadata": {},
     "output_type": "display_data"
    },
    {
     "data": {
      "text/plain": [
       "[Text(0.5, 1.0, 'NDVI')]"
      ]
     },
     "execution_count": 343,
     "metadata": {},
     "output_type": "execute_result"
    },
    {
     "data": {
      "image/png": "[encoded data removed]",
      "text/plain": [
       "<Figure size 1200x600 with 1 Axes>"
      ]
     },
     "metadata": {},
     "output_type": "display_data"
    }
   ],
   "source": [
    "fig, ax = plt.subplots(figsize=(12,6))\n",
    "sns.scatterplot(data=df_s2_field_multiyear, x='date',y='mean', ax=ax).set(title=\"NDVI\")"
   ]
  },
  {
   "cell_type": "markdown",
   "metadata": {},
   "source": [
    "Interestingly, the mean NDVI in winter 2022/2023 is on the lower end compared to previous years. Maybe the land owner changed something on a local scale...let's take a look at the mean over the rural area and see how it compares to previous years"
   ]
  },
  {
   "cell_type": "code",
   "execution_count": 344,
   "metadata": {},
   "outputs": [
    {
     "data": {
      "text/html": [
       "\n",
       "            <style>\n",
       "                .geemap-dark {\n",
       "                    --jp-widgets-color: white;\n",
       "                    --jp-widgets-label-color: white;\n",
       "                    --jp-ui-font-color1: white;\n",
       "                    --jp-layout-color2: #454545;\n",
       "                    background-color: #383838;\n",
       "                }\n",
       "                    \n",
       "                .geemap-dark .jupyter-button {\n",
       "                    --jp-layout-color3: #383838;\n",
       "                }\n",
       "                \n",
       "                .geemap-colab {\n",
       "                    background-color: var(--colab-primary-surface-color, white);\n",
       "                }\n",
       "                    \n",
       "                .geemap-colab .jupyter-button {\n",
       "                    --jp-layout-color3: var(--colab-primary-surface-color, white);\n",
       "                }\n",
       "            </style>\n",
       "            "
      ],
      "text/plain": [
       "<IPython.core.display.HTML object>"
      ]
     },
     "metadata": {},
     "output_type": "display_data"
    },
    {
     "data": {
      "text/plain": [
       "[Text(0.5, 1.0, 'NDVI in rural area')]"
      ]
     },
     "execution_count": 344,
     "metadata": {},
     "output_type": "execute_result"
    },
    {
     "data": {
      "image/png": "[encoded data removed]",
      "text/plain": [
       "<Figure size 1200x600 with 1 Axes>"
      ]
     },
     "metadata": {},
     "output_type": "display_data"
    }
   ],
   "source": [
    "df_s2_rural_multiyear = calc_mean_over_region(s2_ts_ndvi, rural_mean)\n",
    "\n",
    "fig, ax = plt.subplots(figsize=(12,6))\n",
    "sns.scatterplot(data=df_s2_rural_multiyear, x='date',y='mean', ax=ax).set(title=\"NDVI in rural area\")"
   ]
  },
  {
   "cell_type": "markdown",
   "metadata": {},
   "source": [
    "Yikes, either the last few years of drought haven't been kind to the Santa Barbara backcountry, even with extreme rainfall this past winter, or something is amiss. Let's check this vs Landsat NDVI"
   ]
  },
  {
   "cell_type": "code",
   "execution_count": 345,
   "metadata": {},
   "outputs": [
    {
     "data": {
      "text/html": [
       "\n",
       "            <style>\n",
       "                .geemap-dark {\n",
       "                    --jp-widgets-color: white;\n",
       "                    --jp-widgets-label-color: white;\n",
       "                    --jp-ui-font-color1: white;\n",
       "                    --jp-layout-color2: #454545;\n",
       "                    background-color: #383838;\n",
       "                }\n",
       "                    \n",
       "                .geemap-dark .jupyter-button {\n",
       "                    --jp-layout-color3: #383838;\n",
       "                }\n",
       "                \n",
       "                .geemap-colab {\n",
       "                    background-color: var(--colab-primary-surface-color, white);\n",
       "                }\n",
       "                    \n",
       "                .geemap-colab .jupyter-button {\n",
       "                    --jp-layout-color3: var(--colab-primary-surface-color, white);\n",
       "                }\n",
       "            </style>\n",
       "            "
      ],
      "text/plain": [
       "<IPython.core.display.HTML object>"
      ]
     },
     "metadata": {},
     "output_type": "display_data"
    },
    {
     "data": {
      "text/html": [
       "<div>\n",
       "<style scoped>\n",
       "    .dataframe tbody tr th:only-of-type {\n",
       "        vertical-align: middle;\n",
       "    }\n",
       "\n",
       "    .dataframe tbody tr th {\n",
       "        vertical-align: top;\n",
       "    }\n",
       "\n",
       "    .dataframe thead th {\n",
       "        text-align: right;\n",
       "    }\n",
       "</style>\n",
       "<table border=\"1\" class=\"dataframe\">\n",
       "  <thead>\n",
       "    <tr style=\"text-align: right;\">\n",
       "      <th></th>\n",
       "      <th>date</th>\n",
       "      <th>mean</th>\n",
       "    </tr>\n",
       "  </thead>\n",
       "  <tbody>\n",
       "    <tr>\n",
       "      <th>0</th>\n",
       "      <td>2014-11-15 18:34:43</td>\n",
       "      <td>0.174219</td>\n",
       "    </tr>\n",
       "    <tr>\n",
       "      <th>1</th>\n",
       "      <td>2014-12-01 18:34:42</td>\n",
       "      <td>0.020606</td>\n",
       "    </tr>\n",
       "    <tr>\n",
       "      <th>2</th>\n",
       "      <td>2014-12-17 18:34:38</td>\n",
       "      <td>0.166666</td>\n",
       "    </tr>\n",
       "    <tr>\n",
       "      <th>3</th>\n",
       "      <td>2015-01-02 18:34:32</td>\n",
       "      <td>0.166597</td>\n",
       "    </tr>\n",
       "    <tr>\n",
       "      <th>4</th>\n",
       "      <td>2015-01-18 18:34:30</td>\n",
       "      <td>0.178915</td>\n",
       "    </tr>\n",
       "    <tr>\n",
       "      <th>...</th>\n",
       "      <td>...</td>\n",
       "      <td>...</td>\n",
       "    </tr>\n",
       "    <tr>\n",
       "      <th>190</th>\n",
       "      <td>2023-04-14 18:34:04</td>\n",
       "      <td>0.236873</td>\n",
       "    </tr>\n",
       "    <tr>\n",
       "      <th>191</th>\n",
       "      <td>2023-04-30 18:33:59</td>\n",
       "      <td>0.300740</td>\n",
       "    </tr>\n",
       "    <tr>\n",
       "      <th>192</th>\n",
       "      <td>2023-05-16 18:33:46</td>\n",
       "      <td>0.316127</td>\n",
       "    </tr>\n",
       "    <tr>\n",
       "      <th>193</th>\n",
       "      <td>2023-06-01 18:33:49</td>\n",
       "      <td>0.149927</td>\n",
       "    </tr>\n",
       "    <tr>\n",
       "      <th>194</th>\n",
       "      <td>2023-06-17 18:33:58</td>\n",
       "      <td>0.304981</td>\n",
       "    </tr>\n",
       "  </tbody>\n",
       "</table>\n",
       "<p>195 rows × 2 columns</p>\n",
       "</div>"
      ],
      "text/plain": [
       "                   date      mean\n",
       "0   2014-11-15 18:34:43  0.174219\n",
       "1   2014-12-01 18:34:42  0.020606\n",
       "2   2014-12-17 18:34:38  0.166666\n",
       "3   2015-01-02 18:34:32  0.166597\n",
       "4   2015-01-18 18:34:30  0.178915\n",
       "..                  ...       ...\n",
       "190 2023-04-14 18:34:04  0.236873\n",
       "191 2023-04-30 18:33:59  0.300740\n",
       "192 2023-05-16 18:33:46  0.316127\n",
       "193 2023-06-01 18:33:49  0.149927\n",
       "194 2023-06-17 18:33:58  0.304981\n",
       "\n",
       "[195 rows x 2 columns]"
      ]
     },
     "execution_count": 345,
     "metadata": {},
     "output_type": "execute_result"
    }
   ],
   "source": [
    "Ls_image_collection = ee.ImageCollection('LANDSAT/LC08/C02/T1_L2').filterBounds(aoi).filter(date_filter)\n",
    "\n",
    "def add_Ls_NDVI(image):\n",
    "    return image.addBands(image.normalizedDifference(['SR_B5', 'SR_B4']).rename('NDVI'))\n",
    "\n",
    "Ls_ts_ndvi = Ls_image_collection.map(add_Ls_NDVI)\n",
    "\n",
    "Ls_imgs = Ls_ts_ndvi.map(rural_mean)\n",
    "\n",
    "# Convert from ImageCollection to a nested list we can conver to a Pandas DataFrame\n",
    "nested_list = Ls_imgs.reduceColumns(ee.Reducer.toList(2), ['date','mean']).values().get(0)\n",
    "\n",
    "# Convert to a DataFrame\n",
    "df_Ls = pd.DataFrame(nested_list.getInfo(), columns=['date','mean'])\n",
    "\n",
    "# Convert timestampe to datetime\n",
    "df_Ls['date'] = pd.to_datetime(df_Ls['date'])\n",
    "\n",
    "df_Ls\n"
   ]
  },
  {
   "cell_type": "code",
   "execution_count": 346,
   "metadata": {},
   "outputs": [
    {
     "data": {
      "text/html": [
       "\n",
       "            <style>\n",
       "                .geemap-dark {\n",
       "                    --jp-widgets-color: white;\n",
       "                    --jp-widgets-label-color: white;\n",
       "                    --jp-ui-font-color1: white;\n",
       "                    --jp-layout-color2: #454545;\n",
       "                    background-color: #383838;\n",
       "                }\n",
       "                    \n",
       "                .geemap-dark .jupyter-button {\n",
       "                    --jp-layout-color3: #383838;\n",
       "                }\n",
       "                \n",
       "                .geemap-colab {\n",
       "                    background-color: var(--colab-primary-surface-color, white);\n",
       "                }\n",
       "                    \n",
       "                .geemap-colab .jupyter-button {\n",
       "                    --jp-layout-color3: var(--colab-primary-surface-color, white);\n",
       "                }\n",
       "            </style>\n",
       "            "
      ],
      "text/plain": [
       "<IPython.core.display.HTML object>"
      ]
     },
     "metadata": {},
     "output_type": "display_data"
    },
    {
     "data": {
      "text/plain": [
       "[Text(0.5, 1.0, 'NDVI (Landsat) in rural area')]"
      ]
     },
     "execution_count": 346,
     "metadata": {},
     "output_type": "execute_result"
    },
    {
     "data": {
      "image/png": "[encoded data removed]",
      "text/plain": [
       "<Figure size 1200x600 with 1 Axes>"
      ]
     },
     "metadata": {},
     "output_type": "display_data"
    }
   ],
   "source": [
    "fig, ax = plt.subplots(figsize=(12,6))\n",
    "#sns.scatterplot(data=df2, x='date',y='mean', ax=ax).set(title=\"NDVI\")\n",
    "sns.scatterplot(data=df_Ls, x='date',y='mean', ax=ax).set(title=\"NDVI (Landsat) in rural area\")"
   ]
  },
  {
   "cell_type": "markdown",
   "metadata": {},
   "source": [
    "The Landsat derived NDVI are strangely quite different from the Sentinel-2 NDVI. I'll leave this for future work and get to it another day"
   ]
  },
  {
   "cell_type": "markdown",
   "metadata": {},
   "source": [
    "### More rigorous change detection\n",
    "\n",
    "Ok, let's look for changes in a bit more rigorous way than just timeseries plots of averages and videos of Lake Cachuma filling up. \n",
    "\n",
    "First, let's focus again on NDVI and show how we can make a statistically rigorous quantification of change. To do this, we'll focus on the ratio between NDVI before and after the flood (i.e. comparing November to March). We choose to measure the *ratio* rather than the *difference* because a difference measure won't easily pick up on changes in regions with small NDVI: the difference between two large numbers is generally larger than the difference between two small numbers. The ratio is a much better, more sensitive metric"
   ]
  },
  {
   "cell_type": "code",
   "execution_count": 368,
   "metadata": {},
   "outputs": [
    {
     "data": {
      "text/html": [
       "\n",
       "            <style>\n",
       "                .geemap-dark {\n",
       "                    --jp-widgets-color: white;\n",
       "                    --jp-widgets-label-color: white;\n",
       "                    --jp-ui-font-color1: white;\n",
       "                    --jp-layout-color2: #454545;\n",
       "                    background-color: #383838;\n",
       "                }\n",
       "                    \n",
       "                .geemap-dark .jupyter-button {\n",
       "                    --jp-layout-color3: #383838;\n",
       "                }\n",
       "                \n",
       "                .geemap-colab {\n",
       "                    background-color: var(--colab-primary-surface-color, white);\n",
       "                }\n",
       "                    \n",
       "                .geemap-colab .jupyter-button {\n",
       "                    --jp-layout-color3: var(--colab-primary-surface-color, white);\n",
       "                }\n",
       "            </style>\n",
       "            "
      ],
      "text/plain": [
       "<IPython.core.display.HTML object>"
      ]
     },
     "metadata": {},
     "output_type": "display_data"
    },
    {
     "data": {
      "text/html": [
       "<div style=\"width:100%;\"><div style=\"position:relative;width:100%;height:0;padding-bottom:60%;\"><span style=\"color:#565656\">Make this Notebook Trusted to load map: File -> Trust Notebook</span><iframe srcdoc=\"&lt;!DOCTYPE html&gt;\n",
       "&lt;html&gt;\n",
       "&lt;head&gt;\n",
       "    \n",
       "    &lt;meta http-equiv=&quot;content-type&quot; content=&quot;text/html; charset=UTF-8&quot; /&gt;\n",
       "    \n",
       "        &lt;script&gt;\n",
       "            L_NO_TOUCH = false;\n",
       "            L_DISABLE_3D = false;\n",
       "        &lt;/script&gt;\n",
       "    \n",
       "    &lt;style&gt;html, body {width: 100%;height: 100%;margin: 0;padding: 0;}&lt;/style&gt;\n",
       "    &lt;style&gt;#map {position:absolute;top:0;bottom:0;right:0;left:0;}&lt;/style&gt;\n",
       "    &lt;script src=&quot;https://cdn.jsdelivr.net/npm/leaflet@1.9.3/dist/leaflet.js&quot;&gt;&lt;/script&gt;\n",
       "    &lt;script src=&quot;https://code.jquery.com/jquery-1.12.4.min.js&quot;&gt;&lt;/script&gt;\n",
       "    &lt;script src=&quot;https://cdn.jsdelivr.net/npm/bootstrap@5.2.2/dist/js/bootstrap.bundle.min.js&quot;&gt;&lt;/script&gt;\n",
       "    &lt;script src=&quot;https://cdnjs.cloudflare.com/ajax/libs/Leaflet.awesome-markers/2.0.2/leaflet.awesome-markers.js&quot;&gt;&lt;/script&gt;\n",
       "    &lt;link rel=&quot;stylesheet&quot; href=&quot;https://cdn.jsdelivr.net/npm/leaflet@1.9.3/dist/leaflet.css&quot;/&gt;\n",
       "    &lt;link rel=&quot;stylesheet&quot; href=&quot;https://cdn.jsdelivr.net/npm/bootstrap@5.2.2/dist/css/bootstrap.min.css&quot;/&gt;\n",
       "    &lt;link rel=&quot;stylesheet&quot; href=&quot;https://netdna.bootstrapcdn.com/bootstrap/3.0.0/css/bootstrap.min.css&quot;/&gt;\n",
       "    &lt;link rel=&quot;stylesheet&quot; href=&quot;https://cdn.jsdelivr.net/npm/@fortawesome/fontawesome-free@6.2.0/css/all.min.css&quot;/&gt;\n",
       "    &lt;link rel=&quot;stylesheet&quot; href=&quot;https://cdnjs.cloudflare.com/ajax/libs/Leaflet.awesome-markers/2.0.2/leaflet.awesome-markers.css&quot;/&gt;\n",
       "    &lt;link rel=&quot;stylesheet&quot; href=&quot;https://cdn.jsdelivr.net/gh/python-visualization/folium/folium/templates/leaflet.awesome.rotate.min.css&quot;/&gt;\n",
       "    \n",
       "            &lt;meta name=&quot;viewport&quot; content=&quot;width=device-width,\n",
       "                initial-scale=1.0, maximum-scale=1.0, user-scalable=no&quot; /&gt;\n",
       "            &lt;style&gt;\n",
       "                #map_a42ce41c41f83a12cb38f6da328980c7 {\n",
       "                    position: relative;\n",
       "                    width: 100.0%;\n",
       "                    height: 100.0%;\n",
       "                    left: 0.0%;\n",
       "                    top: 0.0%;\n",
       "                }\n",
       "                .leaflet-container { font-size: 1rem; }\n",
       "            &lt;/style&gt;\n",
       "        \n",
       "&lt;/head&gt;\n",
       "&lt;body&gt;\n",
       "    \n",
       "    \n",
       "            &lt;div class=&quot;folium-map&quot; id=&quot;map_a42ce41c41f83a12cb38f6da328980c7&quot; &gt;&lt;/div&gt;\n",
       "        \n",
       "&lt;/body&gt;\n",
       "&lt;script&gt;\n",
       "    \n",
       "    \n",
       "            var map_a42ce41c41f83a12cb38f6da328980c7 = L.map(\n",
       "                &quot;map_a42ce41c41f83a12cb38f6da328980c7&quot;,\n",
       "                {\n",
       "                    center: [34.48312300154308, -119.7534481913798],\n",
       "                    crs: L.CRS.EPSG3857,\n",
       "                    zoom: 12,\n",
       "                    zoomControl: true,\n",
       "                    preferCanvas: false,\n",
       "                }\n",
       "            );\n",
       "\n",
       "            \n",
       "\n",
       "        \n",
       "    \n",
       "            var tile_layer_5a685fc5fa9146376e025099720a4c17 = L.tileLayer(\n",
       "                &quot;https://{s}.tile.openstreetmap.org/{z}/{x}/{y}.png&quot;,\n",
       "                {&quot;attribution&quot;: &quot;Data by \\u0026copy; \\u003ca target=\\&quot;_blank\\&quot; href=\\&quot;http://openstreetmap.org\\&quot;\\u003eOpenStreetMap\\u003c/a\\u003e, under \\u003ca target=\\&quot;_blank\\&quot; href=\\&quot;http://www.openstreetmap.org/copyright\\&quot;\\u003eODbL\\u003c/a\\u003e.&quot;, &quot;detectRetina&quot;: false, &quot;maxNativeZoom&quot;: 18, &quot;maxZoom&quot;: 18, &quot;minZoom&quot;: 0, &quot;noWrap&quot;: false, &quot;opacity&quot;: 1, &quot;subdomains&quot;: &quot;abc&quot;, &quot;tms&quot;: false}\n",
       "            ).addTo(map_a42ce41c41f83a12cb38f6da328980c7);\n",
       "        \n",
       "    \n",
       "            var tile_layer_6ef0e6b34d1444599d8d949b43a7f0c3 = L.tileLayer(\n",
       "                &quot;https://earthengine.googleapis.com/v1/projects/earthengine-legacy/maps/af8856bf0ef1e6f40b1eb23f7e6eb39c-2a19d93ed62585494230c093599166dc/tiles/{z}/{x}/{y}&quot;,\n",
       "                {&quot;attribution&quot;: &quot;Map Data \\u0026copy; \\u003ca href=\\&quot;https://earthengine.google.com/\\&quot;\\u003eGoogle Earth Engine\\u003c/a\\u003e&quot;, &quot;detectRetina&quot;: false, &quot;maxNativeZoom&quot;: 18, &quot;maxZoom&quot;: 18, &quot;minZoom&quot;: 0, &quot;noWrap&quot;: false, &quot;opacity&quot;: 1, &quot;subdomains&quot;: &quot;abc&quot;, &quot;tms&quot;: false}\n",
       "            ).addTo(map_a42ce41c41f83a12cb38f6da328980c7);\n",
       "        \n",
       "    \n",
       "            var tile_layer_e23b752d09b672a2e825bbf8a0e95633 = L.tileLayer(\n",
       "                &quot;https://earthengine.googleapis.com/v1/projects/earthengine-legacy/maps/b9b7120262b2403f1438dc2964766dfc-105879aece38bd59801c9804572655a8/tiles/{z}/{x}/{y}&quot;,\n",
       "                {&quot;attribution&quot;: &quot;Map Data \\u0026copy; \\u003ca href=\\&quot;https://earthengine.google.com/\\&quot;\\u003eGoogle Earth Engine\\u003c/a\\u003e&quot;, &quot;detectRetina&quot;: false, &quot;maxNativeZoom&quot;: 18, &quot;maxZoom&quot;: 18, &quot;minZoom&quot;: 0, &quot;noWrap&quot;: false, &quot;opacity&quot;: 1, &quot;subdomains&quot;: &quot;abc&quot;, &quot;tms&quot;: false}\n",
       "            ).addTo(map_a42ce41c41f83a12cb38f6da328980c7);\n",
       "        \n",
       "    \n",
       "            var layer_control_9554c46fcf318560dedd977683d5f979 = {\n",
       "                base_layers : {\n",
       "                    &quot;openstreetmap&quot; : tile_layer_5a685fc5fa9146376e025099720a4c17,\n",
       "                },\n",
       "                overlays :  {\n",
       "                    &quot;After/Before&quot; : tile_layer_6ef0e6b34d1444599d8d949b43a7f0c3,\n",
       "                    &quot;After - Before&quot; : tile_layer_e23b752d09b672a2e825bbf8a0e95633,\n",
       "                },\n",
       "            };\n",
       "            L.control.layers(\n",
       "                layer_control_9554c46fcf318560dedd977683d5f979.base_layers,\n",
       "                layer_control_9554c46fcf318560dedd977683d5f979.overlays,\n",
       "                {&quot;autoZIndex&quot;: true, &quot;collapsed&quot;: true, &quot;position&quot;: &quot;topright&quot;}\n",
       "            ).addTo(map_a42ce41c41f83a12cb38f6da328980c7);\n",
       "        \n",
       "&lt;/script&gt;\n",
       "&lt;/html&gt;\" style=\"position:absolute;width:100%;height:100%;left:0;top:0;border:none !important;\" allowfullscreen webkitallowfullscreen mozallowfullscreen></iframe></div></div>"
      ],
      "text/plain": [
       "<folium.folium.Map at 0x15f0948d0>"
      ]
     },
     "metadata": {},
     "output_type": "display_data"
    }
   ],
   "source": [
    "from scipy.stats import norm, gamma, f, chi2\n",
    "import matplotlib.pyplot as plt\n",
    "import numpy as np\n",
    "\n",
    "# Get the \"after\" / \"before\" ratio\n",
    "ratio = ndvi_after.divide(ndvi_before)\n",
    "\n",
    "# Get the \"after\" - \"before\" \n",
    "diff = ndvi_after.subtract(ndvi_before)\n",
    "\n",
    "location = aoi.centroid().coordinates().getInfo()[::-1]\n",
    "mp = folium.Map(location=location, zoom_start=12)\n",
    "mp.add_ee_layer(ratio,\n",
    "                {'min': 0, 'max': 5, 'palette': ['black', 'white']}, 'After/Before')\n",
    "mp.add_ee_layer(diff,\n",
    "                {'min': -0.5, 'max': 1, 'palette': ['black', 'white']}, 'After - Before')\n",
    "mp.add_child(folium.LayerControl())\n",
    "\n",
    "display(mp)"
   ]
  },
  {
   "cell_type": "markdown",
   "metadata": {},
   "source": [
    "The white areas are where the NDVI ratio or difference is highest. They overlap well with what we saw by eye earlier, including in our \"field\" region, which appears as a block of white in both map layers. We can also dive a bit deeper and look at the differences between individual visual bands:"
   ]
  },
  {
   "cell_type": "code",
   "execution_count": 373,
   "metadata": {},
   "outputs": [
    {
     "data": {
      "text/html": [
       "\n",
       "            <style>\n",
       "                .geemap-dark {\n",
       "                    --jp-widgets-color: white;\n",
       "                    --jp-widgets-label-color: white;\n",
       "                    --jp-ui-font-color1: white;\n",
       "                    --jp-layout-color2: #454545;\n",
       "                    background-color: #383838;\n",
       "                }\n",
       "                    \n",
       "                .geemap-dark .jupyter-button {\n",
       "                    --jp-layout-color3: #383838;\n",
       "                }\n",
       "                \n",
       "                .geemap-colab {\n",
       "                    background-color: var(--colab-primary-surface-color, white);\n",
       "                }\n",
       "                    \n",
       "                .geemap-colab .jupyter-button {\n",
       "                    --jp-layout-color3: var(--colab-primary-surface-color, white);\n",
       "                }\n",
       "            </style>\n",
       "            "
      ],
      "text/plain": [
       "<IPython.core.display.HTML object>"
      ]
     },
     "metadata": {},
     "output_type": "display_data"
    },
    {
     "data": {
      "text/html": [
       "<div style=\"width:100%;\"><div style=\"position:relative;width:100%;height:0;padding-bottom:60%;\"><span style=\"color:#565656\">Make this Notebook Trusted to load map: File -> Trust Notebook</span><iframe srcdoc=\"&lt;!DOCTYPE html&gt;\n",
       "&lt;html&gt;\n",
       "&lt;head&gt;\n",
       "    \n",
       "    &lt;meta http-equiv=&quot;content-type&quot; content=&quot;text/html; charset=UTF-8&quot; /&gt;\n",
       "    \n",
       "        &lt;script&gt;\n",
       "            L_NO_TOUCH = false;\n",
       "            L_DISABLE_3D = false;\n",
       "        &lt;/script&gt;\n",
       "    \n",
       "    &lt;style&gt;html, body {width: 100%;height: 100%;margin: 0;padding: 0;}&lt;/style&gt;\n",
       "    &lt;style&gt;#map {position:absolute;top:0;bottom:0;right:0;left:0;}&lt;/style&gt;\n",
       "    &lt;script src=&quot;https://cdn.jsdelivr.net/npm/leaflet@1.9.3/dist/leaflet.js&quot;&gt;&lt;/script&gt;\n",
       "    &lt;script src=&quot;https://code.jquery.com/jquery-1.12.4.min.js&quot;&gt;&lt;/script&gt;\n",
       "    &lt;script src=&quot;https://cdn.jsdelivr.net/npm/bootstrap@5.2.2/dist/js/bootstrap.bundle.min.js&quot;&gt;&lt;/script&gt;\n",
       "    &lt;script src=&quot;https://cdnjs.cloudflare.com/ajax/libs/Leaflet.awesome-markers/2.0.2/leaflet.awesome-markers.js&quot;&gt;&lt;/script&gt;\n",
       "    &lt;link rel=&quot;stylesheet&quot; href=&quot;https://cdn.jsdelivr.net/npm/leaflet@1.9.3/dist/leaflet.css&quot;/&gt;\n",
       "    &lt;link rel=&quot;stylesheet&quot; href=&quot;https://cdn.jsdelivr.net/npm/bootstrap@5.2.2/dist/css/bootstrap.min.css&quot;/&gt;\n",
       "    &lt;link rel=&quot;stylesheet&quot; href=&quot;https://netdna.bootstrapcdn.com/bootstrap/3.0.0/css/bootstrap.min.css&quot;/&gt;\n",
       "    &lt;link rel=&quot;stylesheet&quot; href=&quot;https://cdn.jsdelivr.net/npm/@fortawesome/fontawesome-free@6.2.0/css/all.min.css&quot;/&gt;\n",
       "    &lt;link rel=&quot;stylesheet&quot; href=&quot;https://cdnjs.cloudflare.com/ajax/libs/Leaflet.awesome-markers/2.0.2/leaflet.awesome-markers.css&quot;/&gt;\n",
       "    &lt;link rel=&quot;stylesheet&quot; href=&quot;https://cdn.jsdelivr.net/gh/python-visualization/folium/folium/templates/leaflet.awesome.rotate.min.css&quot;/&gt;\n",
       "    \n",
       "            &lt;meta name=&quot;viewport&quot; content=&quot;width=device-width,\n",
       "                initial-scale=1.0, maximum-scale=1.0, user-scalable=no&quot; /&gt;\n",
       "            &lt;style&gt;\n",
       "                #map_d0ba7b93be6398b8d153255d52c43941 {\n",
       "                    position: relative;\n",
       "                    width: 100.0%;\n",
       "                    height: 100.0%;\n",
       "                    left: 0.0%;\n",
       "                    top: 0.0%;\n",
       "                }\n",
       "                .leaflet-container { font-size: 1rem; }\n",
       "            &lt;/style&gt;\n",
       "        \n",
       "&lt;/head&gt;\n",
       "&lt;body&gt;\n",
       "    \n",
       "    \n",
       "            &lt;div class=&quot;folium-map&quot; id=&quot;map_d0ba7b93be6398b8d153255d52c43941&quot; &gt;&lt;/div&gt;\n",
       "        \n",
       "&lt;/body&gt;\n",
       "&lt;script&gt;\n",
       "    \n",
       "    \n",
       "            var map_d0ba7b93be6398b8d153255d52c43941 = L.map(\n",
       "                &quot;map_d0ba7b93be6398b8d153255d52c43941&quot;,\n",
       "                {\n",
       "                    center: [34.48312300154308, -119.7534481913798],\n",
       "                    crs: L.CRS.EPSG3857,\n",
       "                    zoom: 12,\n",
       "                    zoomControl: true,\n",
       "                    preferCanvas: false,\n",
       "                }\n",
       "            );\n",
       "\n",
       "            \n",
       "\n",
       "        \n",
       "    \n",
       "            var tile_layer_02fa774ef7642b38b7e4215bfe35628d = L.tileLayer(\n",
       "                &quot;https://{s}.tile.openstreetmap.org/{z}/{x}/{y}.png&quot;,\n",
       "                {&quot;attribution&quot;: &quot;Data by \\u0026copy; \\u003ca target=\\&quot;_blank\\&quot; href=\\&quot;http://openstreetmap.org\\&quot;\\u003eOpenStreetMap\\u003c/a\\u003e, under \\u003ca target=\\&quot;_blank\\&quot; href=\\&quot;http://www.openstreetmap.org/copyright\\&quot;\\u003eODbL\\u003c/a\\u003e.&quot;, &quot;detectRetina&quot;: false, &quot;maxNativeZoom&quot;: 18, &quot;maxZoom&quot;: 18, &quot;minZoom&quot;: 0, &quot;noWrap&quot;: false, &quot;opacity&quot;: 1, &quot;subdomains&quot;: &quot;abc&quot;, &quot;tms&quot;: false}\n",
       "            ).addTo(map_d0ba7b93be6398b8d153255d52c43941);\n",
       "        \n",
       "    \n",
       "            var tile_layer_553d38735bb895de4035e0c70980dd67 = L.tileLayer(\n",
       "                &quot;https://earthengine.googleapis.com/v1/projects/earthengine-legacy/maps/e166217b0619ace585dbcf11a6511113-0bd7d09f7e344c36f45d57952975ef21/tiles/{z}/{x}/{y}&quot;,\n",
       "                {&quot;attribution&quot;: &quot;Map Data \\u0026copy; \\u003ca href=\\&quot;https://earthengine.google.com/\\&quot;\\u003eGoogle Earth Engine\\u003c/a\\u003e&quot;, &quot;detectRetina&quot;: false, &quot;maxNativeZoom&quot;: 18, &quot;maxZoom&quot;: 18, &quot;minZoom&quot;: 0, &quot;noWrap&quot;: false, &quot;opacity&quot;: 1, &quot;subdomains&quot;: &quot;abc&quot;, &quot;tms&quot;: false}\n",
       "            ).addTo(map_d0ba7b93be6398b8d153255d52c43941);\n",
       "        \n",
       "    \n",
       "            var tile_layer_6ca6826019f761470c5f2f47c70e457b = L.tileLayer(\n",
       "                &quot;https://earthengine.googleapis.com/v1/projects/earthengine-legacy/maps/5aef76c873c6718befeb51db610ca99d-9aa7668d086d9839c55e8202d255b770/tiles/{z}/{x}/{y}&quot;,\n",
       "                {&quot;attribution&quot;: &quot;Map Data \\u0026copy; \\u003ca href=\\&quot;https://earthengine.google.com/\\&quot;\\u003eGoogle Earth Engine\\u003c/a\\u003e&quot;, &quot;detectRetina&quot;: false, &quot;maxNativeZoom&quot;: 18, &quot;maxZoom&quot;: 18, &quot;minZoom&quot;: 0, &quot;noWrap&quot;: false, &quot;opacity&quot;: 1, &quot;subdomains&quot;: &quot;abc&quot;, &quot;tms&quot;: false}\n",
       "            ).addTo(map_d0ba7b93be6398b8d153255d52c43941);\n",
       "        \n",
       "    \n",
       "            var tile_layer_ac729c0fddb673ad23ea7a99d9f1eaa5 = L.tileLayer(\n",
       "                &quot;https://earthengine.googleapis.com/v1/projects/earthengine-legacy/maps/9cff0e3483a1840eed25bed03f206997-0935f3a76c962c7e71b5b11068cc8203/tiles/{z}/{x}/{y}&quot;,\n",
       "                {&quot;attribution&quot;: &quot;Map Data \\u0026copy; \\u003ca href=\\&quot;https://earthengine.google.com/\\&quot;\\u003eGoogle Earth Engine\\u003c/a\\u003e&quot;, &quot;detectRetina&quot;: false, &quot;maxNativeZoom&quot;: 18, &quot;maxZoom&quot;: 18, &quot;minZoom&quot;: 0, &quot;noWrap&quot;: false, &quot;opacity&quot;: 1, &quot;subdomains&quot;: &quot;abc&quot;, &quot;tms&quot;: false}\n",
       "            ).addTo(map_d0ba7b93be6398b8d153255d52c43941);\n",
       "        \n",
       "    \n",
       "            var layer_control_185104a7d09f95b3bf26022b5b326145 = {\n",
       "                base_layers : {\n",
       "                    &quot;openstreetmap&quot; : tile_layer_02fa774ef7642b38b7e4215bfe35628d,\n",
       "                },\n",
       "                overlays :  {\n",
       "                    &quot;Novemeber&quot; : tile_layer_553d38735bb895de4035e0c70980dd67,\n",
       "                    &quot;March&quot; : tile_layer_6ca6826019f761470c5f2f47c70e457b,\n",
       "                    &quot;Difference&quot; : tile_layer_ac729c0fddb673ad23ea7a99d9f1eaa5,\n",
       "                },\n",
       "            };\n",
       "            L.control.layers(\n",
       "                layer_control_185104a7d09f95b3bf26022b5b326145.base_layers,\n",
       "                layer_control_185104a7d09f95b3bf26022b5b326145.overlays,\n",
       "                {&quot;autoZIndex&quot;: true, &quot;collapsed&quot;: true, &quot;position&quot;: &quot;topright&quot;}\n",
       "            ).addTo(map_d0ba7b93be6398b8d153255d52c43941);\n",
       "        \n",
       "&lt;/script&gt;\n",
       "&lt;/html&gt;\" style=\"position:absolute;width:100%;height:100%;left:0;top:0;border:none !important;\" allowfullscreen webkitallowfullscreen mozallowfullscreen></iframe></div></div>"
      ],
      "text/plain": [
       "<folium.folium.Map at 0x15f0dc3d0>"
      ]
     },
     "execution_count": 373,
     "metadata": {},
     "output_type": "execute_result"
    }
   ],
   "source": [
    "location = aoi.centroid().coordinates().getInfo()[::-1]\n",
    "visMap = folium.Map(location=location, zoom_start=12)\n",
    "visirbands = ['B2','B3','B4','B8','B11','B12']\n",
    "visbands = ['B2','B3','B4']\n",
    "\n",
    "diff = before_image.subtract(after_image).select(visbands)\n",
    "visMap.add_ee_layer(before_image.select(visbands), {'min': [0, 0, 0], 'max': [3000, 3000, 3000]}, 'Novemeber')\n",
    "visMap.add_ee_layer(after_image.select(visbands), {'min': [0, 0, 0], 'max': [3000, 3000, 3000]}, 'March')\n",
    "visMap.add_ee_layer(diff, {'min': [0, 0, 0], 'max': [1000, 1000, 1000]}, 'Difference')\n",
    "visMap.add_child(folium.LayerControl())\n",
    "\n",
    "visMap"
   ]
  },
  {
   "cell_type": "markdown",
   "metadata": {},
   "source": [
    "# "
   ]
  },
  {
   "cell_type": "markdown",
   "metadata": {},
   "source": [
    "### IMAD Change Detection\n",
    "\n",
    "The above is kind of fun and allows us to see some useful changes in NDVI and in optical imagery overall; however, it does entail some user subjectivity to determine where and how big the changes are. To be more rigorous, we can use what's known as the iMAD algorithm (iterative Multivariate Alteration Detection). I'll follow this tutorial (https://colab.research.google.com/github/mortcanty/eeimad/blob/main/src/gee_change_detection_pt_1.ipynb#scrollTo=kc_pwScrphK1) to first copy publicly available code for the MAD algorithm before presenting and using the iMAD algorithm.\n",
    "\n",
    "#### MAD Variates\n",
    "\n",
    "Previously, what we did is to calculate the change between images, treating them as vectors in spectral space (each component is a different spectral band). Now, we aim to transform the image vectors such that they are as similar as possible before taking their difference, therefore amplifying the genuine differences. We do this through a Canonical Change Analysis (similar to Principal Components Analysis), which will transform from spectral space to a space of *canonical variates* ordered by correlation (similar to PCA where you write the vectors as combinations of eigenvectors). The components of the difference vector are then called the MAD variates.\n",
    "\n",
    "\n",
    "#### The IMAD Method\n",
    "\n",
    "The IMAD method, which we'll copy from here (https://developers.google.com/earth-engine/tutorials/community/imad-tutorial-pt2), iteratively applies the MAD transformation to pixel regions where there has been no physical change. This helps to define an invariant background, on top of which we can assess change. That is, it tries to remove the image differences that arise purely from noise, e.g. instrument or atmospheric effects -- without this iterative scheme, even two images that have *zero* difference in reflectance would show changes. \n",
    "\n"
   ]
  },
  {
   "cell_type": "code",
   "execution_count": 374,
   "metadata": {},
   "outputs": [
    {
     "data": {
      "text/html": [
       "\n",
       "            <style>\n",
       "                .geemap-dark {\n",
       "                    --jp-widgets-color: white;\n",
       "                    --jp-widgets-label-color: white;\n",
       "                    --jp-ui-font-color1: white;\n",
       "                    --jp-layout-color2: #454545;\n",
       "                    background-color: #383838;\n",
       "                }\n",
       "                    \n",
       "                .geemap-dark .jupyter-button {\n",
       "                    --jp-layout-color3: #383838;\n",
       "                }\n",
       "                \n",
       "                .geemap-colab {\n",
       "                    background-color: var(--colab-primary-surface-color, white);\n",
       "                }\n",
       "                    \n",
       "                .geemap-colab .jupyter-button {\n",
       "                    --jp-layout-color3: var(--colab-primary-surface-color, white);\n",
       "                }\n",
       "            </style>\n",
       "            "
      ],
      "text/plain": [
       "<IPython.core.display.HTML object>"
      ]
     },
     "metadata": {},
     "output_type": "display_data"
    }
   ],
   "source": [
    "# Copying relevant routines straight from the Google Developers tutorial above\n",
    "# Routines from Part 1\n",
    "\n",
    "def trunc(values, dec = 3):\n",
    "    '''Truncate a 1-D array to dec decimal places.'''\n",
    "    return np.trunc(values*10**dec)/(10**dec)\n",
    "\n",
    "# Display an image in a one percent linear stretch.\n",
    "def display_ls(image, map, name, centered = False):\n",
    "    bns = image.bandNames().length().getInfo()\n",
    "    if bns == 3:\n",
    "        image = image.rename('B1', 'B2', 'B3')\n",
    "        pb_99 = ['B1_p99', 'B2_p99', 'B3_p99']\n",
    "        pb_1 = ['B1_p1', 'B2_p1', 'B3_p1']\n",
    "        img = ee.Image.rgb(image.select('B1'), image.select('B2'), image.select('B3'))\n",
    "    else:\n",
    "        image = image.rename('B1')\n",
    "        pb_99 = ['B1_p99']\n",
    "        pb_1 = ['B1_p1']\n",
    "        img = image.select('B1')\n",
    "    percentiles = image.reduceRegion(ee.Reducer.percentile([1, 99]), maxPixels=1e11)\n",
    "    mx = percentiles.values(pb_99)\n",
    "    if centered:\n",
    "        mn = ee.Array(mx).multiply(-1).toList()\n",
    "    else:\n",
    "        mn = percentiles.values(pb_1)\n",
    "    map.addLayer(img, {'min': mn, 'max': mx}, name)\n",
    "\n",
    "def collect(aoi, t1a ,t1b, t2a, t2b):\n",
    "    try:\n",
    "        im1 = ee.Image( ee.ImageCollection(\"COPERNICUS/S2_HARMONIZED\")\n",
    "                               .filterBounds(aoi)\n",
    "                               .filterDate(ee.Date(t1a), ee.Date(t1b))\n",
    "                               .filter(ee.Filter.contains(rightValue=aoi,leftField='.geo'))\n",
    "                               .sort('CLOUDY_PIXEL_PERCENTAGE')\n",
    "                               .first()\n",
    "                               .clip(aoi) )\n",
    "        im2 = ee.Image( ee.ImageCollection(\"COPERNICUS/S2_HARMONIZED\")\n",
    "                               .filterBounds(aoi)\n",
    "                               .filterDate(ee.Date(t2a), ee.Date(t2b))\n",
    "                               .filter(ee.Filter.contains(rightValue=aoi,leftField='.geo'))\n",
    "                               .sort('CLOUDY_PIXEL_PERCENTAGE')\n",
    "                               .first()\n",
    "                               .clip(aoi) )\n",
    "        timestamp = im1.date().format('E MMM dd HH:mm:ss YYYY')\n",
    "        print(timestamp.getInfo())\n",
    "        timestamp = im2.date().format('E MMM dd HH:mm:ss YYYY')\n",
    "        print(timestamp.getInfo())\n",
    "        return (im1, im2)\n",
    "    except Exception as e:\n",
    "        print('Error: %s'%e)\n",
    "\n",
    "def covarw(image, weights=None, scale=20, maxPixels=1e10):\n",
    "    '''Return the centered image and its weighted covariance matrix.'''\n",
    "    try:\n",
    "        geometry = image.geometry()\n",
    "        bandNames = image.bandNames()\n",
    "        N = bandNames.length()\n",
    "        if weights is None:\n",
    "            weights = image.constant(1)\n",
    "        weightsImage = image.multiply(ee.Image.constant(0)).add(weights)\n",
    "        means = image.addBands(weightsImage) \\\n",
    "                    .reduceRegion(ee.Reducer.mean().repeat(N).splitWeights(),\n",
    "                                scale = scale,\n",
    "                                maxPixels = maxPixels) \\\n",
    "                    .toArray() \\\n",
    "                    .project([1])\n",
    "        centered = image.toArray().subtract(means)\n",
    "        B1 = centered.bandNames().get(0)\n",
    "        b1 = weights.bandNames().get(0)\n",
    "        nPixels = ee.Number(centered.reduceRegion(ee.Reducer.count(),\n",
    "                                                scale=scale,\n",
    "                                                maxPixels=maxPixels).get(B1))\n",
    "        sumWeights = ee.Number(weights.reduceRegion(ee.Reducer.sum(),\n",
    "                                                    geometry=geometry,\n",
    "                                                    scale=scale,\n",
    "                                                    maxPixels=maxPixels).get(b1))\n",
    "        covw = centered.multiply(weights.sqrt()) \\\n",
    "                    .toArray() \\\n",
    "                    .reduceRegion(ee.Reducer.centeredCovariance(),\n",
    "                                    geometry=geometry,\n",
    "                                    scale=scale,\n",
    "                                    maxPixels=maxPixels) \\\n",
    "                    .get('array')\n",
    "        covw = ee.Array(covw).multiply(nPixels).divide(sumWeights)\n",
    "        return (centered.arrayFlatten([bandNames]), covw)\n",
    "    except Exception as e:\n",
    "        print('Error: %s'%e)\n",
    "\n",
    "def corr(cov):\n",
    "    '''Transfrom covariance matrix to correlation matrix.'''\n",
    "    # Diagonal matrix of inverse sigmas.\n",
    "    sInv = cov.matrixDiagonal().sqrt().matrixToDiag().matrixInverse()\n",
    "    # Transform.\n",
    "    corr = sInv.matrixMultiply(cov).matrixMultiply(sInv).getInfo()\n",
    "    # Truncate.\n",
    "    return [list(map(trunc, corr[i])) for i in range(len(corr))]\n",
    "\n",
    "def geneiv(C,B):\n",
    "    '''Return the eignvalues and eigenvectors of the generalized eigenproblem\n",
    "       C*X = lambda*B*X'''\n",
    "    try:\n",
    "        C = ee.Array(C)\n",
    "        B = ee.Array(B)\n",
    "        #  Li = choldc(B)^-1\n",
    "        Li = ee.Array(B.matrixCholeskyDecomposition().get('L')).matrixInverse()\n",
    "        # Solve symmetric, ordinary eigenproblem Li*C*Li^T*x = lambda*x\n",
    "        Xa = Li.matrixMultiply(C) \\\n",
    "            .matrixMultiply(Li.matrixTranspose()) \\\n",
    "            .eigen()\n",
    "        # Eigenvalues as a row vector.\n",
    "        lambdas = Xa.slice(1, 0, 1).matrixTranspose()\n",
    "        # Eigenvectors as columns.\n",
    "        X = Xa.slice(1, 1).matrixTranspose()\n",
    "        # Generalized eigenvectors as columns, Li^T*X\n",
    "        eigenvecs = Li.matrixTranspose().matrixMultiply(X)\n",
    "        return (lambdas, eigenvecs)\n",
    "    except Exception as e:\n",
    "        print('Error: %s'%e)\n",
    "\n",
    "def mad_run(image1, image2, scale=20):\n",
    "    '''The MAD transformation of two multiband images.'''\n",
    "    try:\n",
    "        image = image1.addBands(image2)\n",
    "        nBands = image.bandNames().length().divide(2)\n",
    "        centeredImage,covarArray = covarw(image,scale=scale)\n",
    "        bNames = centeredImage.bandNames()\n",
    "        bNames1 = bNames.slice(0,nBands)\n",
    "        bNames2 = bNames.slice(nBands)\n",
    "        centeredImage1 = centeredImage.select(bNames1)\n",
    "        centeredImage2 = centeredImage.select(bNames2)\n",
    "        s11 = covarArray.slice(0, 0, nBands).slice(1, 0, nBands)\n",
    "        s22 = covarArray.slice(0, nBands).slice(1, nBands)\n",
    "        s12 = covarArray.slice(0, 0, nBands).slice(1, nBands)\n",
    "        s21 = covarArray.slice(0, nBands).slice(1, 0, nBands)\n",
    "        c1 = s12.matrixMultiply(s22.matrixInverse()).matrixMultiply(s21)\n",
    "        b1 = s11\n",
    "        c2 = s21.matrixMultiply(s11.matrixInverse()).matrixMultiply(s12)\n",
    "        b2 = s22\n",
    "        # Solution of generalized eigenproblems.\n",
    "        lambdas, A = geneiv(c1, b1)\n",
    "        _,       B = geneiv(c2, b2)\n",
    "        rhos = lambdas.sqrt().project(ee.List([1]))\n",
    "        # MAD variances.\n",
    "        sigma2s = rhos.subtract(1).multiply(-2).toList()\n",
    "        sigma2s = ee.Image.constant(sigma2s)\n",
    "        # Ensure sum of positive correlations between X and U is positive.\n",
    "        tmp = s11.matrixDiagonal().sqrt()\n",
    "        ones = tmp.multiply(0).add(1)\n",
    "        tmp = ones.divide(tmp).matrixToDiag()\n",
    "        s = tmp.matrixMultiply(s11).matrixMultiply(A).reduce(ee.Reducer.sum(),[0]).transpose()\n",
    "        A = A.matrixMultiply(s.divide(s.abs()).matrixToDiag())\n",
    "        # Ensure positive correlation.\n",
    "        tmp = A.transpose().matrixMultiply(s12).matrixMultiply(B).matrixDiagonal()\n",
    "        tmp = tmp.divide(tmp.abs()).matrixToDiag()\n",
    "        B = B.matrixMultiply(tmp)\n",
    "        # Canonical and MAD variates as images.\n",
    "        centeredImage1Array = centeredImage1.toArray().toArray(1)\n",
    "        centeredImage2Array = centeredImage2.toArray().toArray(1)\n",
    "        U = ee.Image(A.transpose()).matrixMultiply(centeredImage1Array) \\\n",
    "                    .arrayProject([0]) \\\n",
    "                    .arrayFlatten([bNames2])\n",
    "        V = ee.Image(B.transpose()).matrixMultiply(centeredImage2Array) \\\n",
    "                    .arrayProject([0]) \\\n",
    "                    .arrayFlatten([bNames2])\n",
    "        MAD = U.subtract(V)\n",
    "        # Chi-square image.\n",
    "        Z = MAD.pow(2) \\\n",
    "               .divide(sigma2s) \\\n",
    "               .reduce(ee.Reducer.sum())\n",
    "        return (U, V, MAD, Z)\n",
    "    except Exception as e:\n",
    "        print('Error: %s'%e)"
   ]
  },
  {
   "cell_type": "markdown",
   "metadata": {},
   "source": [
    "And finally, here's the code for the iMAD algorithm"
   ]
  },
  {
   "cell_type": "code",
   "execution_count": 375,
   "metadata": {},
   "outputs": [
    {
     "data": {
      "text/html": [
       "\n",
       "            <style>\n",
       "                .geemap-dark {\n",
       "                    --jp-widgets-color: white;\n",
       "                    --jp-widgets-label-color: white;\n",
       "                    --jp-ui-font-color1: white;\n",
       "                    --jp-layout-color2: #454545;\n",
       "                    background-color: #383838;\n",
       "                }\n",
       "                    \n",
       "                .geemap-dark .jupyter-button {\n",
       "                    --jp-layout-color3: #383838;\n",
       "                }\n",
       "                \n",
       "                .geemap-colab {\n",
       "                    background-color: var(--colab-primary-surface-color, white);\n",
       "                }\n",
       "                    \n",
       "                .geemap-colab .jupyter-button {\n",
       "                    --jp-layout-color3: var(--colab-primary-surface-color, white);\n",
       "                }\n",
       "            </style>\n",
       "            "
      ],
      "text/plain": [
       "<IPython.core.display.HTML object>"
      ]
     },
     "metadata": {},
     "output_type": "display_data"
    }
   ],
   "source": [
    "# The iMAD code\n",
    "\n",
    "def chi2cdf(Z,df):\n",
    "    '''Chi-square cumulative distribution function with df degrees of freedom.'''\n",
    "    return ee.Image(Z.divide(2)).gammainc(ee.Number(df).divide(2))\n",
    "\n",
    "def imad(current,prev):\n",
    "    '''Iterator function for iMAD.'''\n",
    "    done =  ee.Number(ee.Dictionary(prev).get('done'))\n",
    "    return ee.Algorithms.If(done, prev, imad1(current, prev))\n",
    "\n",
    "def imad1(current,prev):\n",
    "    '''Iteratively re-weighted MAD.'''\n",
    "    image = ee.Image(ee.Dictionary(prev).get('image'))\n",
    "    Z = ee.Image(ee.Dictionary(prev).get('Z'))\n",
    "    allrhos = ee.List(ee.Dictionary(prev).get('allrhos'))\n",
    "    nBands = image.bandNames().length().divide(2)\n",
    "    weights = chi2cdf(Z,nBands).subtract(1).multiply(-1)\n",
    "    scale = ee.Dictionary(prev).getNumber('scale')\n",
    "    niter = ee.Dictionary(prev).getNumber('niter')\n",
    "    # Weighted stacked image and weighted covariance matrix.\n",
    "    centeredImage, covarArray = covarw(image, weights, scale)\n",
    "    bNames = centeredImage.bandNames()\n",
    "    bNames1 = bNames.slice(0, nBands)\n",
    "    bNames2 = bNames.slice(nBands)\n",
    "    centeredImage1 = centeredImage.select(bNames1)\n",
    "    centeredImage2 = centeredImage.select(bNames2)\n",
    "    s11 = covarArray.slice(0, 0, nBands).slice(1, 0, nBands)\n",
    "    s22 = covarArray.slice(0, nBands).slice(1, nBands)\n",
    "    s12 = covarArray.slice(0, 0, nBands).slice(1, nBands)\n",
    "    s21 = covarArray.slice(0, nBands).slice(1, 0, nBands)\n",
    "    c1 = s12.matrixMultiply(s22.matrixInverse()).matrixMultiply(s21)\n",
    "    b1 = s11\n",
    "    c2 = s21.matrixMultiply(s11.matrixInverse()).matrixMultiply(s12)\n",
    "    b2 = s22\n",
    "    # Solution of generalized eigenproblems.\n",
    "    lambdas, A = geneiv(c1, b1)\n",
    "    _, B       = geneiv(c2, b2)\n",
    "    rhos = lambdas.sqrt().project(ee.List([1]))\n",
    "    # Test for convergence.\n",
    "    lastrhos = ee.Array(allrhos.get(-1))\n",
    "    done = rhos.subtract(lastrhos) \\\n",
    "               .abs() \\\n",
    "               .reduce(ee.Reducer.max(), ee.List([0])) \\\n",
    "               .lt(ee.Number(0.0001)) \\\n",
    "               .toList() \\\n",
    "               .get(0)\n",
    "    allrhos = allrhos.cat([rhos.toList()])\n",
    "    # MAD variances.\n",
    "    sigma2s = rhos.subtract(1).multiply(-2).toList()\n",
    "    sigma2s = ee.Image.constant(sigma2s)\n",
    "    # Ensure sum of positive correlations between X and U is positive.\n",
    "    tmp = s11.matrixDiagonal().sqrt()\n",
    "    ones = tmp.multiply(0).add(1)\n",
    "    tmp = ones.divide(tmp).matrixToDiag()\n",
    "    s = tmp.matrixMultiply(s11).matrixMultiply(A).reduce(ee.Reducer.sum(), [0]).transpose()\n",
    "    A = A.matrixMultiply(s.divide(s.abs()).matrixToDiag())\n",
    "    # Ensure positive correlation.\n",
    "    tmp = A.transpose().matrixMultiply(s12).matrixMultiply(B).matrixDiagonal()\n",
    "    tmp = tmp.divide(tmp.abs()).matrixToDiag()\n",
    "    B = B.matrixMultiply(tmp)\n",
    "    # Canonical and MAD variates.\n",
    "    centeredImage1Array = centeredImage1.toArray().toArray(1)\n",
    "    centeredImage2Array = centeredImage2.toArray().toArray(1)\n",
    "    U = ee.Image(A.transpose()).matrixMultiply(centeredImage1Array) \\\n",
    "                   .arrayProject([0]) \\\n",
    "                   .arrayFlatten([bNames1])\n",
    "    V = ee.Image(B.transpose()).matrixMultiply(centeredImage2Array) \\\n",
    "                   .arrayProject([0]) \\\n",
    "                   .arrayFlatten([bNames2])\n",
    "    iMAD = U.subtract(V)\n",
    "    # Chi-square image.\n",
    "    Z = iMAD.pow(2) \\\n",
    "              .divide(sigma2s) \\\n",
    "              .reduce(ee.Reducer.sum())\n",
    "    return ee.Dictionary({'done': done, 'scale': scale, 'niter': niter.add(1),\n",
    "                          'image': image, 'allrhos': allrhos, 'Z': Z, 'iMAD': iMAD})"
   ]
  },
  {
   "cell_type": "markdown",
   "metadata": {},
   "source": [
    "The motivation for the above cell is as follows:\n",
    "\n",
    "- One can show that the sum of squares of the MAD variates, $Z = \\Sigma_{i}^{N} (\\frac{M_{i}}{\\sigma_{M_{i}}})^{2}$ represents a likelihood ratio test statistic, where $\\sigma^{2}_{M_{i}} = var(Im1_{i} - Im2_{i}) = 2(1-cov(Im1_{i},Im2_{i}))$ where i denotes the image component in the new vector space after MAD transformation, not the original spectral space. \n",
    "\n",
    "- Our hypothesis is that Z is $\\chi^{2}$-distributed, as we expect the influence of random effects to be, and our p-value measures the extent to which this is true. \n",
    "\n",
    "- The iMAD algorithm iteratively weights each image pixel by the p-value before re-sampling the images, calculating statistics, and repeating. The end result (once some stopping criterion, such as a threshold on change in canonical correlations cov(Im1,Im2), is met) is to gradually reduce the change observations. "
   ]
  },
  {
   "cell_type": "code",
   "execution_count": 376,
   "metadata": {},
   "outputs": [
    {
     "data": {
      "text/html": [
       "\n",
       "            <style>\n",
       "                .geemap-dark {\n",
       "                    --jp-widgets-color: white;\n",
       "                    --jp-widgets-label-color: white;\n",
       "                    --jp-ui-font-color1: white;\n",
       "                    --jp-layout-color2: #454545;\n",
       "                    background-color: #383838;\n",
       "                }\n",
       "                    \n",
       "                .geemap-dark .jupyter-button {\n",
       "                    --jp-layout-color3: #383838;\n",
       "                }\n",
       "                \n",
       "                .geemap-colab {\n",
       "                    background-color: var(--colab-primary-surface-color, white);\n",
       "                }\n",
       "                    \n",
       "                .geemap-colab .jupyter-button {\n",
       "                    --jp-layout-color3: var(--colab-primary-surface-color, white);\n",
       "                }\n",
       "            </style>\n",
       "            "
      ],
      "text/plain": [
       "<IPython.core.display.HTML object>"
      ]
     },
     "metadata": {},
     "output_type": "display_data"
    }
   ],
   "source": [
    "# Run iMAD algorithm as export task\n",
    "\n",
    "def run_imad(aoi, image1, image2, assetFN, scale=20, maxiter=100):\n",
    "    try:\n",
    "        N = image1.bandNames().length().getInfo()\n",
    "        imadnames = ['iMAD'+str(i+1) for i in range(N)]\n",
    "        imadnames.append('Z')\n",
    "        # Maximum iterations.\n",
    "        inputlist = ee.List.sequence(1, maxiter)\n",
    "        first = ee.Dictionary({'done':0,\n",
    "                            'scale': scale,\n",
    "                            'niter': ee.Number(0),\n",
    "                            'image': image1.addBands(image2),\n",
    "                            'allrhos': [ee.List.sequence(1, N)],\n",
    "                            'Z': ee.Image.constant(0),\n",
    "                            'iMAD': ee.Image.constant(0)})\n",
    "        # Iteration.\n",
    "        result = ee.Dictionary(inputlist.iterate(imad, first))\n",
    "        # Retrieve results.\n",
    "        iMAD = ee.Image(result.get('iMAD')).clip(aoi)\n",
    "        rhos = ee.String.encodeJSON(ee.List(result.get('allrhos')).get(-1))\n",
    "        Z = ee.Image(result.get('Z'))\n",
    "        niter = result.getNumber('niter')\n",
    "        # Export iMAD and Z as a single image, including rhos and number of iterations in properties.\n",
    "        iMAD_export = ee.Image.cat(iMAD, Z).rename(imadnames).set('rhos', rhos, 'niter', niter)\n",
    "        assetId = EXPORT_PATH + assetFN\n",
    "        assexport = ee.batch.Export.image.toAsset(iMAD_export,\n",
    "                        description='assetExportTask',\n",
    "                        assetId=assetId, scale=scale, maxPixels=1e10)\n",
    "        assexport.start()\n",
    "        print('Exporting iMAD to %s\\n task id: %s'%(assetId, str(assexport.id)))\n",
    "    except Exception as e:\n",
    "        print('Error: %s'%e)"
   ]
  },
  {
   "cell_type": "code",
   "execution_count": 379,
   "metadata": {},
   "outputs": [
    {
     "data": {
      "text/html": [
       "\n",
       "            <style>\n",
       "                .geemap-dark {\n",
       "                    --jp-widgets-color: white;\n",
       "                    --jp-widgets-label-color: white;\n",
       "                    --jp-ui-font-color1: white;\n",
       "                    --jp-layout-color2: #454545;\n",
       "                    background-color: #383838;\n",
       "                }\n",
       "                    \n",
       "                .geemap-dark .jupyter-button {\n",
       "                    --jp-layout-color3: #383838;\n",
       "                }\n",
       "                \n",
       "                .geemap-colab {\n",
       "                    background-color: var(--colab-primary-surface-color, white);\n",
       "                }\n",
       "                    \n",
       "                .geemap-colab .jupyter-button {\n",
       "                    --jp-layout-color3: var(--colab-primary-surface-color, white);\n",
       "                }\n",
       "            </style>\n",
       "            "
      ],
      "text/plain": [
       "<IPython.core.display.HTML object>"
      ]
     },
     "metadata": {},
     "output_type": "display_data"
    },
    {
     "name": "stdout",
     "output_type": "stream",
     "text": [
      "Error: Name \"projects/earthengine-public/assets/assets/imad/SantaBarbara\" is invalid. Asset names for ingest/export must have at least 3 segments and start with \"projects/*/assets/users/\" or \"projects/*/assets/projects/\".\n"
     ]
    },
    {
     "ename": "EEException",
     "evalue": "Image.load: Image asset 'assets/imad/SantaBarbara' not found (does not exist or caller does not have access).",
     "output_type": "error",
     "traceback": [
      "\u001b[0;31m---------------------------------------------------------------------------\u001b[0m",
      "\u001b[0;31mHttpError\u001b[0m                                 Traceback (most recent call last)",
      "File \u001b[0;32m/Library/Frameworks/Python.framework/Versions/3.11/lib/python3.11/site-packages/ee/data.py:371\u001b[0m, in \u001b[0;36m_execute_cloud_call\u001b[0;34m(call, num_retries)\u001b[0m\n\u001b[1;32m    370\u001b[0m \u001b[39mtry\u001b[39;00m:\n\u001b[0;32m--> 371\u001b[0m   \u001b[39mreturn\u001b[39;00m call\u001b[39m.\u001b[39;49mexecute(num_retries\u001b[39m=\u001b[39;49mnum_retries)\n\u001b[1;32m    372\u001b[0m \u001b[39mexcept\u001b[39;00m googleapiclient\u001b[39m.\u001b[39merrors\u001b[39m.\u001b[39mHttpError \u001b[39mas\u001b[39;00m e:\n",
      "File \u001b[0;32m/Library/Frameworks/Python.framework/Versions/3.11/lib/python3.11/site-packages/googleapiclient/_helpers.py:130\u001b[0m, in \u001b[0;36mpositional.<locals>.positional_decorator.<locals>.positional_wrapper\u001b[0;34m(*args, **kwargs)\u001b[0m\n\u001b[1;32m    129\u001b[0m         logger\u001b[39m.\u001b[39mwarning(message)\n\u001b[0;32m--> 130\u001b[0m \u001b[39mreturn\u001b[39;00m wrapped(\u001b[39m*\u001b[39;49margs, \u001b[39m*\u001b[39;49m\u001b[39m*\u001b[39;49mkwargs)\n",
      "File \u001b[0;32m/Library/Frameworks/Python.framework/Versions/3.11/lib/python3.11/site-packages/googleapiclient/http.py:938\u001b[0m, in \u001b[0;36mHttpRequest.execute\u001b[0;34m(self, http, num_retries)\u001b[0m\n\u001b[1;32m    937\u001b[0m \u001b[39mif\u001b[39;00m resp\u001b[39m.\u001b[39mstatus \u001b[39m>\u001b[39m\u001b[39m=\u001b[39m \u001b[39m300\u001b[39m:\n\u001b[0;32m--> 938\u001b[0m     \u001b[39mraise\u001b[39;00m HttpError(resp, content, uri\u001b[39m=\u001b[39m\u001b[39mself\u001b[39m\u001b[39m.\u001b[39muri)\n\u001b[1;32m    939\u001b[0m \u001b[39mreturn\u001b[39;00m \u001b[39mself\u001b[39m\u001b[39m.\u001b[39mpostproc(resp, content)\n",
      "\u001b[0;31mHttpError\u001b[0m: <HttpError 400 when requesting https://earthengine.googleapis.com/v1/projects/earthengine-legacy/value:compute?prettyPrint=false&alt=json returned \"Image.load: Image asset 'assets/imad/SantaBarbara' not found (does not exist or caller does not have access).\". Details: \"Image.load: Image asset 'assets/imad/SantaBarbara' not found (does not exist or caller does not have access).\">",
      "\nDuring handling of the above exception, another exception occurred:\n",
      "\u001b[0;31mEEException\u001b[0m                               Traceback (most recent call last)",
      "Cell \u001b[0;32mIn[379], line 7\u001b[0m\n\u001b[1;32m      5\u001b[0m im_imad \u001b[39m=\u001b[39m ee\u001b[39m.\u001b[39mImage(EXPORT_PATH \u001b[39m+\u001b[39m \u001b[39m'\u001b[39m\u001b[39mSantaBarbara\u001b[39m\u001b[39m'\u001b[39m)\u001b[39m.\u001b[39mselect(\u001b[39m0\u001b[39m, \u001b[39m1\u001b[39m, \u001b[39m2\u001b[39m, \u001b[39m3\u001b[39m, \u001b[39m4\u001b[39m, \u001b[39m5\u001b[39m)\n\u001b[1;32m      6\u001b[0m im_z \u001b[39m=\u001b[39m ee\u001b[39m.\u001b[39mImage(EXPORT_PATH \u001b[39m+\u001b[39m \u001b[39m'\u001b[39m\u001b[39mSantaBarbara\u001b[39m\u001b[39m'\u001b[39m)\u001b[39m.\u001b[39mselect(\u001b[39m6\u001b[39m)\u001b[39m.\u001b[39mrename(\u001b[39m'\u001b[39m\u001b[39mZ\u001b[39m\u001b[39m'\u001b[39m)\n\u001b[0;32m----> 7\u001b[0m niter \u001b[39m=\u001b[39m im_imad\u001b[39m.\u001b[39;49mget(\u001b[39m'\u001b[39;49m\u001b[39mniter\u001b[39;49m\u001b[39m'\u001b[39;49m)\u001b[39m.\u001b[39;49mgetInfo()\n\u001b[1;32m      8\u001b[0m rhos \u001b[39m=\u001b[39m ee\u001b[39m.\u001b[39mList(im_imad\u001b[39m.\u001b[39mget(\u001b[39m'\u001b[39m\u001b[39mrhos\u001b[39m\u001b[39m'\u001b[39m))\u001b[39m.\u001b[39mgetInfo()\n\u001b[1;32m      9\u001b[0m \u001b[39mprint\u001b[39m(\u001b[39m'\u001b[39m\u001b[39miteratons: \u001b[39m\u001b[39m%i\u001b[39;00m\u001b[39m'\u001b[39m\u001b[39m%\u001b[39mniter)\n",
      "File \u001b[0;32m/Library/Frameworks/Python.framework/Versions/3.11/lib/python3.11/site-packages/ee/computedobject.py:105\u001b[0m, in \u001b[0;36mComputedObject.getInfo\u001b[0;34m(self)\u001b[0m\n\u001b[1;32m     99\u001b[0m \u001b[39mdef\u001b[39;00m \u001b[39mgetInfo\u001b[39m(\u001b[39mself\u001b[39m) \u001b[39m-\u001b[39m\u001b[39m>\u001b[39m Optional[Any]:\n\u001b[1;32m    100\u001b[0m \u001b[39m  \u001b[39m\u001b[39m\"\"\"Fetch and return information about this object.\u001b[39;00m\n\u001b[1;32m    101\u001b[0m \n\u001b[1;32m    102\u001b[0m \u001b[39m  Returns:\u001b[39;00m\n\u001b[1;32m    103\u001b[0m \u001b[39m    The object can evaluate to anything.\u001b[39;00m\n\u001b[1;32m    104\u001b[0m \u001b[39m  \"\"\"\u001b[39;00m\n\u001b[0;32m--> 105\u001b[0m   \u001b[39mreturn\u001b[39;00m data\u001b[39m.\u001b[39;49mcomputeValue(\u001b[39mself\u001b[39;49m)\n",
      "File \u001b[0;32m/Library/Frameworks/Python.framework/Versions/3.11/lib/python3.11/site-packages/ee/data.py:1070\u001b[0m, in \u001b[0;36mcomputeValue\u001b[0;34m(obj)\u001b[0m\n\u001b[1;32m   1067\u001b[0m body \u001b[39m=\u001b[39m {\u001b[39m'\u001b[39m\u001b[39mexpression\u001b[39m\u001b[39m'\u001b[39m: serializer\u001b[39m.\u001b[39mencode(obj, for_cloud_api\u001b[39m=\u001b[39m\u001b[39mTrue\u001b[39;00m)}\n\u001b[1;32m   1068\u001b[0m _maybe_populate_workload_tag(body)\n\u001b[0;32m-> 1070\u001b[0m \u001b[39mreturn\u001b[39;00m _execute_cloud_call(\n\u001b[1;32m   1071\u001b[0m     _get_cloud_projects()\n\u001b[1;32m   1072\u001b[0m     \u001b[39m.\u001b[39;49mvalue()\n\u001b[1;32m   1073\u001b[0m     \u001b[39m.\u001b[39;49mcompute(body\u001b[39m=\u001b[39;49mbody, project\u001b[39m=\u001b[39;49m_get_projects_path(), prettyPrint\u001b[39m=\u001b[39;49m\u001b[39mFalse\u001b[39;49;00m)\n\u001b[1;32m   1074\u001b[0m )[\u001b[39m'\u001b[39m\u001b[39mresult\u001b[39m\u001b[39m'\u001b[39m]\n",
      "File \u001b[0;32m/Library/Frameworks/Python.framework/Versions/3.11/lib/python3.11/site-packages/ee/data.py:373\u001b[0m, in \u001b[0;36m_execute_cloud_call\u001b[0;34m(call, num_retries)\u001b[0m\n\u001b[1;32m    371\u001b[0m   \u001b[39mreturn\u001b[39;00m call\u001b[39m.\u001b[39mexecute(num_retries\u001b[39m=\u001b[39mnum_retries)\n\u001b[1;32m    372\u001b[0m \u001b[39mexcept\u001b[39;00m googleapiclient\u001b[39m.\u001b[39merrors\u001b[39m.\u001b[39mHttpError \u001b[39mas\u001b[39;00m e:\n\u001b[0;32m--> 373\u001b[0m   \u001b[39mraise\u001b[39;00m _translate_cloud_exception(e)\n",
      "\u001b[0;31mEEException\u001b[0m: Image.load: Image asset 'assets/imad/SantaBarbara' not found (does not exist or caller does not have access)."
     ]
    }
   ],
   "source": [
    "EXPORT_PATH = 'assets/imad/'\n",
    "\n",
    "run_imad(aoi, before_image.select(visirbands), after_image.select(visirbands), 'SantaBarbara')\n",
    "\n",
    "im_imad = ee.Image(EXPORT_PATH + 'SantaBarbara').select(0, 1, 2, 3, 4, 5)\n",
    "im_z = ee.Image(EXPORT_PATH + 'SantaBarbara').select(6).rename('Z')\n",
    "niter = im_imad.get('niter').getInfo()\n",
    "rhos = ee.List(im_imad.get('rhos')).getInfo()\n",
    "print('iteratons: %i'%niter)\n",
    "print('canonical correlations: %s'%rhos)"
   ]
  },
  {
   "cell_type": "code",
   "execution_count": null,
   "metadata": {},
   "outputs": [],
   "source": [
    "location = aoi.centroid().coordinates().getInfo()[::-1]\n",
    "M1 = Map(**{'center': location, 'zoom': 11})\n",
    "display_ls(im1.select(visbands), M1, 'im1')\n",
    "display_ls(im2.select(visbands), M1, 'im2')\n",
    "display_ls(im_imad.select('iMAD1', 'iMAD2', 'iMAD3'), M1, 'iMAD123', True)\n",
    "\n",
    "M1"
   ]
  },
  {
   "cell_type": "markdown",
   "metadata": {},
   "source": [
    "## SAR Change Detection\n",
    "\n",
    "For Sentinel-2 data, we're able to gleam insights by subtracting two images, but for SAR data, this is not responsible! Specifically, variances add together when differencing images, and for SAR, this means mean intensities add in quadrature! I.e. variances in dark regions are smaller than variances in light regions, and this gives a false impression of true image changes. \n",
    "\n",
    "So let's transition to SAR data. First, we'll show the ratio of the two images, and then we'll conduct a bit more statistically rigorous change analysis"
   ]
  },
  {
   "cell_type": "code",
   "execution_count": null,
   "metadata": {},
   "outputs": [],
   "source": [
    "# Ratio of SAR images"
   ]
  },
  {
   "cell_type": "markdown",
   "metadata": {},
   "source": [
    "This is very useful, but it's also not statistically rigorous. Let's instead set up a hypothesis test. The null hypothesis is that no change occurred, while the alternative is that a change did occur. \n",
    "\n",
    "How we go about this test is very nicely explained in this tutorial on the Google Development site: https://developers.google.com/earth-engine/tutorials/community/detecting-changes-in-sentinel-1-imagery-pt-2. Here's a very brief summary:\n",
    "\n",
    "It can be shown that the ratios of images are Likelihood Ratio Test (LRT) statistics. Q1 = after/before tests for significant increases in NDVI, whereas Q2 = before/after tests for significant decreases. Using these statistics, we want to set a threshold and calculate a p-value, i.e. the probability that we observe a statistic given the null hypothesis. If the probability is low, then it is unlikely that the null hypothesis holds, and we can reject that hypothesis. The threshold we'll set for rejecting the null hypothesis will be $\\alpha = 0.0005$. \n",
    "\n",
    "To do this in Python, we need a bit more info. To start, let's remember that the cumulative distribution function CDF(x) is the probability of *all* outcomes less than a given value x, and the probability point function PPF(x) is the inverse of CDF(x), i.e. the exact point y where the probability of everything less than y is equal to x. E.g. we can ask what is the 20th percentile of a statistic by calculating PPF(0.2), the 40th percentile by calculating PPF(0.4), etc. \n",
    "\n",
    "For our purposes, we want to calculate PPF($\\alpha = 0.0005$). But what are the parameters of the distribution? "
   ]
  },
  {
   "cell_type": "code",
   "execution_count": 364,
   "metadata": {},
   "outputs": [
    {
     "data": {
      "text/html": [
       "\n",
       "            <style>\n",
       "                .geemap-dark {\n",
       "                    --jp-widgets-color: white;\n",
       "                    --jp-widgets-label-color: white;\n",
       "                    --jp-ui-font-color1: white;\n",
       "                    --jp-layout-color2: #454545;\n",
       "                    background-color: #383838;\n",
       "                }\n",
       "                    \n",
       "                .geemap-dark .jupyter-button {\n",
       "                    --jp-layout-color3: #383838;\n",
       "                }\n",
       "                \n",
       "                .geemap-colab {\n",
       "                    background-color: var(--colab-primary-surface-color, white);\n",
       "                }\n",
       "                    \n",
       "                .geemap-colab .jupyter-button {\n",
       "                    --jp-layout-color3: var(--colab-primary-surface-color, white);\n",
       "                }\n",
       "            </style>\n",
       "            "
      ],
      "text/plain": [
       "<IPython.core.display.HTML object>"
      ]
     },
     "metadata": {},
     "output_type": "display_data"
    },
    {
     "data": {
      "image/png": "[encoded data removed]",
      "text/plain": [
       "<Figure size 640x480 with 1 Axes>"
      ]
     },
     "metadata": {},
     "output_type": "display_data"
    }
   ],
   "source": [
    "# Load in SAR data, both the VV and VH bands\n",
    "\n",
    "# Calculate some statistics\n",
    "hist = ratio.reduceRegion(ee.Reducer.fixedHistogram(0, 5, 500), aoi).get('VV').getInfo()\n",
    "mean = ratio.reduceRegion(ee.Reducer.mean(), aoi).get('VV').getInfo()\n",
    "variance = ratio.reduceRegion(ee.Reducer.variance(), aoi).get('VV').getInfo()\n",
    "\n",
    "m = 30\n",
    "# Plot the histogram\n",
    "h = np.array(hist)\n",
    "x = h[:, 0]\n",
    "y = h[:, 1] / np.sum(h[:, 1])\n",
    "plt.grid()\n",
    "plt.plot(x, y, '.', label='data')\n",
    "plt.plot(x, f.pdf(x, 2*m, 2*m) / 100, '-r', label='F-dist')\n",
    "plt.legend()\n",
    "plt.xlabel(\"NDVI After / NDVI Before\")\n",
    "plt.show()"
   ]
  },
  {
   "cell_type": "markdown",
   "metadata": {},
   "source": [
    "The \"after\" NDVI is generally greater than the \"before\" NDVI -- the ratio is generally > 1, as we can expect after a significant rainfall."
   ]
  },
  {
   "cell_type": "code",
   "execution_count": null,
   "metadata": {},
   "outputs": [],
   "source": [
    "# Set the decision threshold \n",
    "m = 5\n",
    "dt = f.ppf(0.0005, 2*m, 2*m)\n",
    "\n",
    "# LRT statistics.\n",
    "q1 = ndvi_before.divide(ndvi_after)\n",
    "q2 = ndvi_after.divide(ndvi_before)\n",
    "\n",
    "# Change map with 0 = no change, 1 = decrease, 2 = increase in intensity.\n",
    "c_map = ndvi_before.multiply(0).where(q2.lt(dt), 1)\n",
    "c_map = c_map.where(q1.lt(dt), 2)\n",
    "\n",
    "# Mask no-change pixels.\n",
    "c_map = c_map.updateMask(c_map.gt(0))\n",
    "\n",
    "# Display map with red for increase and blue for decrease in intensity.\n",
    "location = aoi.centroid().coordinates().getInfo()[::-1]\n",
    "mp = folium.Map(\n",
    "    location=location, tiles='Stamen Toner',\n",
    "    zoom_start=13)\n",
    "folium.TileLayer('OpenStreetMap').add_to(mp)\n",
    "mp.add_ee_layer(ratio,\n",
    "                {'min': 0, 'max': 5, 'palette': ['black', 'white']}, 'Ratio')\n",
    "mp.add_ee_layer(c_map,\n",
    "                {'min': 0, 'max': 2, 'palette': ['black', 'blue', 'red']},\n",
    "                'Change Map')\n",
    "mp.add_child(folium.LayerControl())\n",
    "\n",
    "display(mp)"
   ]
  },
  {
   "cell_type": "markdown",
   "metadata": {},
   "source": []
  },
  {
   "cell_type": "markdown",
   "metadata": {},
   "source": [
    "### Bivariate SAR change analysis"
   ]
  },
  {
   "cell_type": "markdown",
   "metadata": {},
   "source": []
  }
 ],
 "metadata": {
  "kernelspec": {
   "display_name": "Python 3",
   "language": "python",
   "name": "python3"
  },
  "language_info": {
   "codemirror_mode": {
    "name": "ipython",
    "version": 3
   },
   "file_extension": ".py",
   "mimetype": "text/x-python",
   "name": "python",
   "nbconvert_exporter": "python",
   "pygments_lexer": "ipython3",
   "version": "3.11.4"
  },
  "orig_nbformat": 4
 },
 "nbformat": 4,
 "nbformat_minor": 2
}
